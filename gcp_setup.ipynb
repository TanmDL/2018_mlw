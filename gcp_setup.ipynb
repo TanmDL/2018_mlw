{
  "nbformat": 4,
  "nbformat_minor": 0,
  "metadata": {
    "colab": {
      "name": "gcp_setup.ipynb",
      "version": "0.3.2",
      "provenance": [],
      "collapsed_sections": [],
      "include_colab_link": true
    },
    "kernelspec": {
      "name": "python3",
      "display_name": "Python 3"
    }
  },
  "cells": [
    {
      "cell_type": "markdown",
      "metadata": {
        "id": "view-in-github",
        "colab_type": "text"
      },
      "source": [
        "[View in Colaboratory](https://colab.research.google.com/github/ckbjimmy/2018_mlw/blob/master/gcp_setup.ipynb)"
      ]
    },
    {
      "metadata": {
        "id": "CX9d-JrdQWhg",
        "colab_type": "code",
        "colab": {
          "base_uri": "https://localhost:8080/",
          "height": 127
        },
        "outputId": "5a57008f-e49c-4d37-b4fd-12783175f941"
      },
      "cell_type": "code",
      "source": [
        "import numpy as np\n",
        "import os\n",
        "import pandas as pd\n",
        "import matplotlib.pyplot as plt\n",
        "import matplotlib.patches as patches\n",
        "import matplotlib.path as path\n",
        "import tensorflow as tf\n",
        "\n",
        "from google.colab import auth\n",
        "from google.cloud import bigquery\n",
        "\n",
        "auth.authenticate_user()\n",
        "\n",
        "client = bigquery.Client(project='datathon-datasets')\n",
        "datasets = client.list_datasets()\n",
        "for dataset in datasets:\n",
        "  did = dataset.dataset_id\n",
        "  print('Dataset \"%s\" has the following tables:' % did)\n",
        "  for table in client.list_tables(client.dataset(did)):\n",
        "    print('    ' + table.table_id)\n",
        "    \n",
        "project_id = ''\n",
        "os.environ[\"GOOGLE_CLOUD_PROJECT\"] = project_id\n",
        "\n",
        "def run_query(query):\n",
        "  return pd.io.gbq.read_gbq(query, project_id=project_id, verbose=False, configuration={'query':{'useLegacySql': False}})\n",
        "\n",
        "\n",
        "run_query('''\n",
        "SELECT\n",
        "  subject_id,\n",
        "  hadm_id,\n",
        "  icustay_id\n",
        "FROM\n",
        "  `datathon-datasets.mimic_demo.icustays`\n",
        "LIMIT 10\n",
        "''')"
      ],
      "execution_count": 0,
      "outputs": []
    },
    {
      "metadata": {
        "id": "P2e-qW2TQyLl",
        "colab_type": "code",
        "colab": {}
      },
      "cell_type": "code",
      "source": [
        ""
      ],
      "execution_count": 0,
      "outputs": []
    }
  ]
}