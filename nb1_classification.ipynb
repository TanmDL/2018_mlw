{
  "nbformat": 4,
  "nbformat_minor": 0,
  "metadata": {
    "colab": {
      "name": "nb1_classification.ipynb",
      "version": "0.3.2",
      "provenance": [],
      "collapsed_sections": [],
      "toc_visible": true
    },
    "kernelspec": {
      "name": "python3",
      "display_name": "Python 3"
    }
  },
  "cells": [
    {
      "cell_type": "markdown",
      "metadata": {
        "id": "view-in-github",
        "colab_type": "text"
      },
      "source": [
        "[View in Colaboratory](https://colab.research.google.com/github/ckbjimmy/2018_mlw/blob/master/nb1_classification.ipynb)"
      ]
    },
    {
      "metadata": {
        "id": "acE7JrXS2ahZ",
        "colab_type": "text"
      },
      "cell_type": "markdown",
      "source": [
        "# Machine Learning for Clinical Predictive Analytics\n",
        "\n",
        "We would like to introduce the basic knowledge of machine learning and toolkits for clinical knowledge discovery in the workshop.\n",
        "The material will cover common classification and clustering algorithms for clinical prediction tasks, as well as the diagnostic workflow of applying machine learning to real-world problems. \n",
        "We will use [Google colab](https://colab.research.google.com/) / python jupyter notebook and two datasets:\n",
        "\n",
        "- Breast Cancer Wisconsin (Diagnostic) Database, and \n",
        "- pre-extracted ICU data from PhysioNet Database\n",
        "  \n",
        "to build predictive models.\n",
        "\n",
        "The learning objectives of this workshop tutorial are:\n",
        "\n",
        "- Learn how to use Google colab / jupyter notebook\n",
        "- Learn how to build machine learning models for clinical classification and clustering tasks\n",
        "\n",
        "To accelerate the progress without obstacles, we hope that the readers fulfill the following prerequisites:\n",
        "\n",
        "- [Skillset] basic python syntax\n",
        "- [Requirements] Google account OR [anaconda](https://anaconda.org/anaconda/python)\n",
        "\n",
        "In part 1, we will go through the basic of modeling for classification.\n",
        "In part 2, we will investigate more on clustering and visualizing the results.\n",
        "In part 3, we will play with neural networks.\n",
        "\n"
      ]
    },
    {
      "metadata": {
        "id": "ZWiyY6ZanrTq",
        "colab_type": "text"
      },
      "cell_type": "markdown",
      "source": [
        "# Part I – Classification\n",
        "\n",
        "In the first part of the workshop, we would like to explore how to utilize machine learning algorithms to approach clinical predictive analytic problems, specifically, the classification problem.\n",
        "\n",
        "The tutorial is modified from Alistair's version.\n",
        "\n",
        "In the beginning, we will install and import the packages needed for the workshop (we usually do this in python). \n",
        "Then we will work on a well-structured breast cancer dataset, then move on to the real world PhysioNet dataset.\n",
        "\n",
        "In the first chunk, it will take few seconds to install and import packages we need in the tutorial.\n",
        "Colab / jupyter notebook provides a convenient function that you can run the bash command by adding `!` before the command. e.g. `!pip install tensorflow` , `!ls`, `!clear`."
      ]
    },
    {
      "metadata": {
        "id": "2oc7_qvU2U1e",
        "colab_type": "code",
        "colab": {
          "base_uri": "https://localhost:8080/",
          "height": 3222
        },
        "outputId": "6bcf14fa-dabe-4045-f16c-8acff4d79d1c"
      },
      "cell_type": "code",
      "source": [
        "try:\n",
        "    import psycopg2\n",
        "except:\n",
        "    !pip install psycopg2\n",
        "  \n",
        "try:\n",
        "    import pydotplus\n",
        "except:\n",
        "    !pip install pydotplus\n",
        "    \n",
        "try:\n",
        "    import graphviz\n",
        "except:\n",
        "    !apt-get install graphviz -y\n",
        "\n",
        "\n",
        "from __future__ import print_function\n",
        "\n",
        "import numpy as np\n",
        "import pandas as pd\n",
        "import sklearn\n",
        "import psycopg2\n",
        "import sys\n",
        "import datetime as dt\n",
        "\n",
        "import matplotlib\n",
        "import matplotlib.pyplot as plt\n",
        "from matplotlib.font_manager import FontProperties # for unicode fonts\n",
        "\n",
        "from collections import OrderedDict\n",
        "\n",
        "from sklearn import datasets\n",
        "\n",
        "# used to print out pretty pandas dataframes\n",
        "from IPython.display import display, HTML\n",
        "\n",
        "from sklearn.pipeline import Pipeline\n",
        "\n",
        "# used to impute mean for data and standardize for computational stability\n",
        "from sklearn.preprocessing import Imputer\n",
        "from sklearn.preprocessing import StandardScaler\n",
        "\n",
        "# logistic regression is our favourite model ever\n",
        "from sklearn.model_selection import train_test_split\n",
        "from sklearn.linear_model import LogisticRegression\n",
        "from sklearn.linear_model import LogisticRegressionCV # l2 regularized regression\n",
        "from sklearn.linear_model import LassoCV\n",
        "\n",
        "from sklearn.tree import DecisionTreeClassifier\n",
        "from sklearn.ensemble import GradientBoostingClassifier\n",
        "from sklearn.ensemble import RandomForestClassifier\n",
        "from sklearn.ensemble import BaggingClassifier\n",
        "from sklearn.ensemble import AdaBoostClassifier\n",
        "from sklearn.naive_bayes import MultinomialNB\n",
        "from sklearn.svm import LinearSVC\n",
        "from sklearn.svm import SVC\n",
        "from sklearn.calibration import CalibratedClassifierCV\n",
        "from sklearn.neural_network import MLPClassifier         \n",
        "\n",
        "from sklearn import model_selection\n",
        "\n",
        "# used to calculate AUROC/accuracy\n",
        "from sklearn import metrics\n",
        "from sklearn.model_selection import cross_val_score\n",
        "\n",
        "# used to create confusion matrix\n",
        "from sklearn.metrics import confusion_matrix\n",
        "\n",
        "%matplotlib inline"
      ],
      "execution_count": 2,
      "outputs": [
        {
          "output_type": "stream",
          "text": [
            "Collecting psycopg2\n",
            "\u001b[?25l  Downloading https://files.pythonhosted.org/packages/92/15/92b5c363243376ce9cb879bbec561bba196694eb663a6937b4cb967e230e/psycopg2-2.7.4-cp36-cp36m-manylinux1_x86_64.whl (2.7MB)\n",
            "\u001b[K    100% |████████████████████████████████| 2.7MB 7.1MB/s \n",
            "\u001b[?25hInstalling collected packages: psycopg2\n",
            "Successfully installed psycopg2-2.7.4\n",
            "Collecting pydotplus\n",
            "\u001b[?25l  Downloading https://files.pythonhosted.org/packages/60/bf/62567830b700d9f6930e9ab6831d6ba256f7b0b730acb37278b0ccdffacf/pydotplus-2.0.2.tar.gz (278kB)\n",
            "\u001b[K    100% |████████████████████████████████| 286kB 5.2MB/s \n",
            "\u001b[?25hRequirement already satisfied: pyparsing>=2.0.1 in /usr/local/lib/python3.6/dist-packages (from pydotplus) (2.2.0)\n",
            "Building wheels for collected packages: pydotplus\n",
            "  Running setup.py bdist_wheel for pydotplus ... \u001b[?25l-\b \bdone\n",
            "\u001b[?25h  Stored in directory: /content/.cache/pip/wheels/35/7b/ab/66fb7b2ac1f6df87475b09dc48e707b6e0de80a6d8444e3628\n",
            "Successfully built pydotplus\n",
            "Installing collected packages: pydotplus\n",
            "Successfully installed pydotplus-2.0.2\n",
            "Reading package lists... Done\n",
            "Building dependency tree       \n",
            "Reading state information... Done\n",
            "The following additional packages will be installed:\n",
            "  fontconfig libcairo2 libcdt5 libcgraph6 libdatrie1 libgd3 libgraphite2-3\n",
            "  libgvc6 libgvpr2 libharfbuzz0b libjbig0 libltdl7 libpango-1.0-0\n",
            "  libpangocairo-1.0-0 libpangoft2-1.0-0 libpathplan4 libpixman-1-0\n",
            "  libthai-data libthai0 libtiff5 libwebp6 libxaw7 libxcb-render0 libxcb-shm0\n",
            "  libxmu6 libxpm4 libxt6\n",
            "Suggested packages:\n",
            "  gsfonts graphviz-doc libgd-tools\n",
            "The following NEW packages will be installed:\n",
            "  fontconfig graphviz libcairo2 libcdt5 libcgraph6 libdatrie1 libgd3\n",
            "  libgraphite2-3 libgvc6 libgvpr2 libharfbuzz0b libjbig0 libltdl7\n",
            "  libpango-1.0-0 libpangocairo-1.0-0 libpangoft2-1.0-0 libpathplan4\n",
            "  libpixman-1-0 libthai-data libthai0 libtiff5 libwebp6 libxaw7 libxcb-render0\n",
            "  libxcb-shm0 libxmu6 libxpm4 libxt6\n",
            "0 upgraded, 28 newly installed, 0 to remove and 0 not upgraded.\n",
            "Need to get 4,122 kB of archives.\n",
            "After this operation, 20.6 MB of additional disk space will be used.\n",
            "Get:1 http://archive.ubuntu.com/ubuntu artful/main amd64 fontconfig amd64 2.11.94-0ubuntu2 [177 kB]\n",
            "Get:2 http://archive.ubuntu.com/ubuntu artful/main amd64 libjbig0 amd64 2.1-3.1 [26.6 kB]\n",
            "Get:3 http://archive.ubuntu.com/ubuntu artful/main amd64 libcdt5 amd64 2.38.0-16ubuntu2 [19.5 kB]\n",
            "Get:4 http://archive.ubuntu.com/ubuntu artful/main amd64 libcgraph6 amd64 2.38.0-16ubuntu2 [40.0 kB]\n",
            "Get:5 http://archive.ubuntu.com/ubuntu artful-updates/main amd64 libtiff5 amd64 4.0.8-5ubuntu0.1 [150 kB]\n",
            "Get:6 http://archive.ubuntu.com/ubuntu artful/main amd64 libwebp6 amd64 0.6.0-3 [181 kB]\n",
            "Get:7 http://archive.ubuntu.com/ubuntu artful/main amd64 libxpm4 amd64 1:3.5.12-1 [34.0 kB]\n",
            "Get:8 http://archive.ubuntu.com/ubuntu artful/main amd64 libgd3 amd64 2.2.5-3 [119 kB]\n",
            "Get:9 http://archive.ubuntu.com/ubuntu artful/main amd64 libpixman-1-0 amd64 0.34.0-1 [230 kB]\n",
            "Get:10 http://archive.ubuntu.com/ubuntu artful/main amd64 libxcb-render0 amd64 1.12-1ubuntu1 [14.8 kB]\n",
            "Get:11 http://archive.ubuntu.com/ubuntu artful/main amd64 libxcb-shm0 amd64 1.12-1ubuntu1 [5,482 B]\n",
            "Get:12 http://archive.ubuntu.com/ubuntu artful/main amd64 libcairo2 amd64 1.14.10-1ubuntu1 [558 kB]\n",
            "Get:13 http://archive.ubuntu.com/ubuntu artful/main amd64 libltdl7 amd64 2.4.6-2 [38.8 kB]\n",
            "Get:14 http://archive.ubuntu.com/ubuntu artful/main amd64 libthai-data all 0.1.26-3 [132 kB]\n",
            "Get:15 http://archive.ubuntu.com/ubuntu artful/main amd64 libdatrie1 amd64 0.2.10-5 [17.6 kB]\n",
            "Get:16 http://archive.ubuntu.com/ubuntu artful/main amd64 libthai0 amd64 0.1.26-3 [17.7 kB]\n",
            "Get:17 http://archive.ubuntu.com/ubuntu artful/main amd64 libpango-1.0-0 amd64 1.40.12-1 [152 kB]\n",
            "Get:18 http://archive.ubuntu.com/ubuntu artful/main amd64 libgraphite2-3 amd64 1.3.10-2 [78.3 kB]\n",
            "Get:19 http://archive.ubuntu.com/ubuntu artful/main amd64 libharfbuzz0b amd64 1.4.2-1 [211 kB]\n",
            "Get:20 http://archive.ubuntu.com/ubuntu artful/main amd64 libpangoft2-1.0-0 amd64 1.40.12-1 [33.2 kB]\n",
            "Get:21 http://archive.ubuntu.com/ubuntu artful/main amd64 libpangocairo-1.0-0 amd64 1.40.12-1 [20.8 kB]\n",
            "Get:22 http://archive.ubuntu.com/ubuntu artful/main amd64 libpathplan4 amd64 2.38.0-16ubuntu2 [22.6 kB]\n",
            "Get:23 http://archive.ubuntu.com/ubuntu artful/main amd64 libgvc6 amd64 2.38.0-16ubuntu2 [587 kB]\n",
            "Get:24 http://archive.ubuntu.com/ubuntu artful/main amd64 libgvpr2 amd64 2.38.0-16ubuntu2 [167 kB]\n",
            "Get:25 http://archive.ubuntu.com/ubuntu artful/main amd64 libxt6 amd64 1:1.1.5-1 [160 kB]\n",
            "Get:26 http://archive.ubuntu.com/ubuntu artful/main amd64 libxmu6 amd64 2:1.1.2-2 [46.0 kB]\n",
            "Get:27 http://archive.ubuntu.com/ubuntu artful/main amd64 libxaw7 amd64 2:1.0.13-1 [173 kB]\n",
            "Get:28 http://archive.ubuntu.com/ubuntu artful/main amd64 graphviz amd64 2.38.0-16ubuntu2 [710 kB]\n",
            "Fetched 4,122 kB in 1s (3,384 kB/s)\n",
            "Selecting previously unselected package fontconfig.\n",
            "(Reading database ... 18298 files and directories currently installed.)\n",
            "Preparing to unpack .../00-fontconfig_2.11.94-0ubuntu2_amd64.deb ...\n",
            "Unpacking fontconfig (2.11.94-0ubuntu2) ...\n",
            "Selecting previously unselected package libjbig0:amd64.\n",
            "Preparing to unpack .../01-libjbig0_2.1-3.1_amd64.deb ...\n",
            "Unpacking libjbig0:amd64 (2.1-3.1) ...\n",
            "Selecting previously unselected package libcdt5.\n",
            "Preparing to unpack .../02-libcdt5_2.38.0-16ubuntu2_amd64.deb ...\n",
            "Unpacking libcdt5 (2.38.0-16ubuntu2) ...\n",
            "Selecting previously unselected package libcgraph6.\n",
            "Preparing to unpack .../03-libcgraph6_2.38.0-16ubuntu2_amd64.deb ...\n",
            "Unpacking libcgraph6 (2.38.0-16ubuntu2) ...\n",
            "Selecting previously unselected package libtiff5:amd64.\n",
            "Preparing to unpack .../04-libtiff5_4.0.8-5ubuntu0.1_amd64.deb ...\n",
            "Unpacking libtiff5:amd64 (4.0.8-5ubuntu0.1) ...\n"
          ],
          "name": "stdout"
        },
        {
          "output_type": "stream",
          "text": [
            "Selecting previously unselected package libwebp6:amd64.\r\n",
            "Preparing to unpack .../05-libwebp6_0.6.0-3_amd64.deb ...\r\n",
            "Unpacking libwebp6:amd64 (0.6.0-3) ...\n",
            "Selecting previously unselected package libxpm4:amd64.\n",
            "Preparing to unpack .../06-libxpm4_1%3a3.5.12-1_amd64.deb ...\n",
            "Unpacking libxpm4:amd64 (1:3.5.12-1) ...\n",
            "Selecting previously unselected package libgd3:amd64.\n",
            "Preparing to unpack .../07-libgd3_2.2.5-3_amd64.deb ...\n",
            "Unpacking libgd3:amd64 (2.2.5-3) ...\n",
            "Selecting previously unselected package libpixman-1-0:amd64.\n",
            "Preparing to unpack .../08-libpixman-1-0_0.34.0-1_amd64.deb ...\n",
            "Unpacking libpixman-1-0:amd64 (0.34.0-1) ...\n",
            "Selecting previously unselected package libxcb-render0:amd64.\n",
            "Preparing to unpack .../09-libxcb-render0_1.12-1ubuntu1_amd64.deb ...\n",
            "Unpacking libxcb-render0:amd64 (1.12-1ubuntu1) ...\n",
            "Selecting previously unselected package libxcb-shm0:amd64.\n",
            "Preparing to unpack .../10-libxcb-shm0_1.12-1ubuntu1_amd64.deb ...\n",
            "Unpacking libxcb-shm0:amd64 (1.12-1ubuntu1) ...\n",
            "Selecting previously unselected package libcairo2:amd64.\n",
            "Preparing to unpack .../11-libcairo2_1.14.10-1ubuntu1_amd64.deb ...\n",
            "Unpacking libcairo2:amd64 (1.14.10-1ubuntu1) ...\n",
            "Selecting previously unselected package libltdl7:amd64.\n",
            "Preparing to unpack .../12-libltdl7_2.4.6-2_amd64.deb ...\n",
            "Unpacking libltdl7:amd64 (2.4.6-2) ...\n",
            "Selecting previously unselected package libthai-data.\n",
            "Preparing to unpack .../13-libthai-data_0.1.26-3_all.deb ...\n",
            "Unpacking libthai-data (0.1.26-3) ...\n",
            "Selecting previously unselected package libdatrie1:amd64.\n",
            "Preparing to unpack .../14-libdatrie1_0.2.10-5_amd64.deb ...\n",
            "Unpacking libdatrie1:amd64 (0.2.10-5) ...\n",
            "Selecting previously unselected package libthai0:amd64.\n",
            "Preparing to unpack .../15-libthai0_0.1.26-3_amd64.deb ...\n",
            "Unpacking libthai0:amd64 (0.1.26-3) ...\n",
            "Selecting previously unselected package libpango-1.0-0:amd64.\n",
            "Preparing to unpack .../16-libpango-1.0-0_1.40.12-1_amd64.deb ...\n",
            "Unpacking libpango-1.0-0:amd64 (1.40.12-1) ...\n",
            "Selecting previously unselected package libgraphite2-3:amd64.\n",
            "Preparing to unpack .../17-libgraphite2-3_1.3.10-2_amd64.deb ...\n",
            "Unpacking libgraphite2-3:amd64 (1.3.10-2) ...\n",
            "Selecting previously unselected package libharfbuzz0b:amd64.\n",
            "Preparing to unpack .../18-libharfbuzz0b_1.4.2-1_amd64.deb ...\n",
            "Unpacking libharfbuzz0b:amd64 (1.4.2-1) ...\n",
            "Selecting previously unselected package libpangoft2-1.0-0:amd64.\n",
            "Preparing to unpack .../19-libpangoft2-1.0-0_1.40.12-1_amd64.deb ...\n",
            "Unpacking libpangoft2-1.0-0:amd64 (1.40.12-1) ...\n",
            "Selecting previously unselected package libpangocairo-1.0-0:amd64.\n",
            "Preparing to unpack .../20-libpangocairo-1.0-0_1.40.12-1_amd64.deb ...\n",
            "Unpacking libpangocairo-1.0-0:amd64 (1.40.12-1) ...\n",
            "Selecting previously unselected package libpathplan4.\n",
            "Preparing to unpack .../21-libpathplan4_2.38.0-16ubuntu2_amd64.deb ...\n",
            "Unpacking libpathplan4 (2.38.0-16ubuntu2) ...\n",
            "Selecting previously unselected package libgvc6.\n",
            "Preparing to unpack .../22-libgvc6_2.38.0-16ubuntu2_amd64.deb ...\n",
            "Unpacking libgvc6 (2.38.0-16ubuntu2) ...\n",
            "Selecting previously unselected package libgvpr2.\n",
            "Preparing to unpack .../23-libgvpr2_2.38.0-16ubuntu2_amd64.deb ...\n",
            "Unpacking libgvpr2 (2.38.0-16ubuntu2) ...\n",
            "Selecting previously unselected package libxt6:amd64.\n",
            "Preparing to unpack .../24-libxt6_1%3a1.1.5-1_amd64.deb ...\n",
            "Unpacking libxt6:amd64 (1:1.1.5-1) ...\n",
            "Selecting previously unselected package libxmu6:amd64.\n",
            "Preparing to unpack .../25-libxmu6_2%3a1.1.2-2_amd64.deb ...\n",
            "Unpacking libxmu6:amd64 (2:1.1.2-2) ...\n",
            "Selecting previously unselected package libxaw7:amd64.\n",
            "Preparing to unpack .../26-libxaw7_2%3a1.0.13-1_amd64.deb ...\n",
            "Unpacking libxaw7:amd64 (2:1.0.13-1) ...\n",
            "Selecting previously unselected package graphviz.\n",
            "Preparing to unpack .../27-graphviz_2.38.0-16ubuntu2_amd64.deb ...\n",
            "Unpacking graphviz (2.38.0-16ubuntu2) ...\n",
            "Setting up libpathplan4 (2.38.0-16ubuntu2) ...\n",
            "Setting up libxcb-render0:amd64 (1.12-1ubuntu1) ...\n",
            "Setting up libjbig0:amd64 (2.1-3.1) ...\n",
            "Setting up libdatrie1:amd64 (0.2.10-5) ...\n",
            "Setting up libtiff5:amd64 (4.0.8-5ubuntu0.1) ...\n",
            "Setting up libgraphite2-3:amd64 (1.3.10-2) ...\n",
            "Setting up libpixman-1-0:amd64 (0.34.0-1) ...\n",
            "Processing triggers for libc-bin (2.26-0ubuntu2.1) ...\n",
            "Setting up libltdl7:amd64 (2.4.6-2) ...\n",
            "Setting up libxcb-shm0:amd64 (1.12-1ubuntu1) ...\n",
            "Setting up libxpm4:amd64 (1:3.5.12-1) ...\n",
            "Setting up libxt6:amd64 (1:1.1.5-1) ...\n",
            "Setting up libthai-data (0.1.26-3) ...\n",
            "Setting up libcdt5 (2.38.0-16ubuntu2) ...\n",
            "Setting up fontconfig (2.11.94-0ubuntu2) ...\n",
            "Regenerating fonts cache... "
          ],
          "name": "stdout"
        },
        {
          "output_type": "stream",
          "text": [
            "done.\n",
            "Setting up libcgraph6 (2.38.0-16ubuntu2) ...\n",
            "Setting up libwebp6:amd64 (0.6.0-3) ...\n",
            "Setting up libcairo2:amd64 (1.14.10-1ubuntu1) ...\n",
            "Setting up libgvpr2 (2.38.0-16ubuntu2) ...\n",
            "Setting up libgd3:amd64 (2.2.5-3) ...\n",
            "Setting up libharfbuzz0b:amd64 (1.4.2-1) ...\n",
            "Setting up libthai0:amd64 (0.1.26-3) ...\n",
            "Setting up libxmu6:amd64 (2:1.1.2-2) ...\n",
            "Setting up libpango-1.0-0:amd64 (1.40.12-1) ...\n",
            "Setting up libxaw7:amd64 (2:1.0.13-1) ...\n",
            "Setting up libpangoft2-1.0-0:amd64 (1.40.12-1) ...\n",
            "Setting up libpangocairo-1.0-0:amd64 (1.40.12-1) ...\n",
            "Setting up libgvc6 (2.38.0-16ubuntu2) ...\n",
            "Setting up graphviz (2.38.0-16ubuntu2) ...\n",
            "Processing triggers for libc-bin (2.26-0ubuntu2.1) ...\n"
          ],
          "name": "stdout"
        },
        {
          "output_type": "stream",
          "text": [
            "/usr/local/lib/python3.6/dist-packages/psycopg2/__init__.py:144: UserWarning: The psycopg2 wheel package will be renamed from release 2.8; in order to keep installing from binary please use \"pip install psycopg2-binary\" instead. For details see: <http://initd.org/psycopg/docs/install.html#binary-install-from-pypi>.\n",
            "  \"\"\")\n"
          ],
          "name": "stderr"
        }
      ]
    },
    {
      "metadata": {
        "id": "kdPWuNeStkxs",
        "colab_type": "text"
      },
      "cell_type": "markdown",
      "source": [
        "Here we defined the `plot_model_pred_2d` function for plotting. \n",
        "We will use this function later for visualizing the decision boundaries."
      ]
    },
    {
      "metadata": {
        "id": "_O8cVt7dztAa",
        "colab_type": "code",
        "colab": {}
      },
      "cell_type": "code",
      "source": [
        "def plot_model_pred_2d(mdl, X, y, feat):\n",
        "    # look at the regions in a 2d plot\n",
        "    # based on scikit-learn tutorial plot_iris.html\n",
        "\n",
        "    # get minimum and maximum values\n",
        "    x0_min = X[:, 0].min()\n",
        "    x0_max = X[:, 0].max()\n",
        "    x1_min = X[:, 1].min()\n",
        "    x1_max = X[:, 1].max()\n",
        "\n",
        "    xx, yy = np.meshgrid(np.linspace(x0_min, x0_max, 100),\n",
        "                         np.linspace(x1_min, x1_max, 100))\n",
        "\n",
        "    Z = mdl.predict(np.c_[xx.ravel(), yy.ravel()])\n",
        "    Z = Z.reshape(xx.shape)\n",
        "\n",
        "    # plot the contour - colouring different regions\n",
        "    cs = plt.contourf(xx, yy, Z, cmap='Blues')\n",
        "\n",
        "    # plot the individual data points - colouring by the *true* outcome\n",
        "    color = y.ravel()\n",
        "    plt.scatter(X[:, 0], X[:, 1], c=color, marker='o', s=40, cmap='Blues')\n",
        "\n",
        "    plt.xlabel(feat[0])\n",
        "    plt.ylabel(feat[1])\n",
        "    plt.axis(\"tight\")\n",
        "    plt.colorbar()"
      ],
      "execution_count": 0,
      "outputs": []
    },
    {
      "metadata": {
        "id": "SGxn4Qv91tSX",
        "colab_type": "text"
      },
      "cell_type": "markdown",
      "source": [
        "## Breast cancer prediction (classifying tumor or not)\n",
        "\n",
        "Let's start from using the breast cancer dataset in UCI data repository to have a quick view on how to do the analysis and build models using well-structured data (without missing data and other problems). \n",
        "We load the breast cancer dataset from `sklearn.datasets`, and show the description of this dataset.\n",
        "\n",
        "Here we just use the second and the last feature (mean texture and worst fractal dimension, `[1, 29]`) for modeling.\n",
        "\n",
        "In machine learning, we usually split the data into training and testing dataset, and only use the training part for modeling (using `train_test_split` function). \n",
        "The purpose of this splitting step is to make the model less overfitting and more generalizable.\n",
        "For much robust model, we need to further split the training set to training and validation sets. \n",
        "Check the figure to understand the relationship between three splitted sets.\n",
        "\n",
        "\n",
        "![split](http://www.codeproject.com/KB/AI/1146582/validation.PNG)\n",
        "[Source] http://magizbox.com/training/machinelearning/site/evaluation/"
      ]
    },
    {
      "metadata": {
        "id": "_aOVF6602Bdl",
        "colab_type": "code",
        "colab": {
          "base_uri": "https://localhost:8080/",
          "height": 2257
        },
        "outputId": "48bb5e84-7b45-4e3e-9a7d-a12fba675b65"
      },
      "cell_type": "code",
      "source": [
        "# load the data\n",
        "df_bc = datasets.load_breast_cancer()\n",
        "print([k for k in df_bc.keys()])\n",
        "print(df_bc['feature_names'])\n",
        "\n",
        "# if you want a description of the dataset, uncomment the below line\n",
        "print(df_bc['DESCR'])\n",
        "\n",
        "# pick index of the features to use (only pick 2)\n",
        "#    :Attribute Information (in order):\n",
        "#        0 - CRIM     per capita crime rate by town\n",
        "#        1 - ZN       proportion of residential land zoned for lots over 25,000 sq.ft.\n",
        "#        2 - INDUS    proportion of non-retail business acres per town\n",
        "#        3 - CHAS     Charles River dummy variable (= 1 if tract bounds river; 0 otherwise)\n",
        "#        4 - NOX      nitric oxides concentration (parts per 10 million)\n",
        "#        5 - RM       average number of rooms per dwelling\n",
        "#        6 - AGE      proportion of owner-occupied units built prior to 1940\n",
        "#        7 - DIS      weighted distances to five Boston employment centres\n",
        "#        8 - RAD      index of accessibility to radial highways\n",
        "#        9 - TAX      full-value property-tax rate per $10,000\n",
        "#       10 - PTRATIO  pupil-teacher ratio by town\n",
        "#       11 - B        1000(Bk - 0.63)^2 where Bk is the proportion of blacks by town\n",
        "#       12 - LSTAT    % lower status of the population\n",
        "#       13 - MEDV     Median value of owner-occupied homes in $1000's"
      ],
      "execution_count": 4,
      "outputs": [
        {
          "output_type": "stream",
          "text": [
            "['data', 'target', 'target_names', 'DESCR', 'feature_names']\n",
            "['mean radius' 'mean texture' 'mean perimeter' 'mean area'\n",
            " 'mean smoothness' 'mean compactness' 'mean concavity'\n",
            " 'mean concave points' 'mean symmetry' 'mean fractal dimension'\n",
            " 'radius error' 'texture error' 'perimeter error' 'area error'\n",
            " 'smoothness error' 'compactness error' 'concavity error'\n",
            " 'concave points error' 'symmetry error' 'fractal dimension error'\n",
            " 'worst radius' 'worst texture' 'worst perimeter' 'worst area'\n",
            " 'worst smoothness' 'worst compactness' 'worst concavity'\n",
            " 'worst concave points' 'worst symmetry' 'worst fractal dimension']\n",
            "Breast Cancer Wisconsin (Diagnostic) Database\n",
            "=============================================\n",
            "\n",
            "Notes\n",
            "-----\n",
            "Data Set Characteristics:\n",
            "    :Number of Instances: 569\n",
            "\n",
            "    :Number of Attributes: 30 numeric, predictive attributes and the class\n",
            "\n",
            "    :Attribute Information:\n",
            "        - radius (mean of distances from center to points on the perimeter)\n",
            "        - texture (standard deviation of gray-scale values)\n",
            "        - perimeter\n",
            "        - area\n",
            "        - smoothness (local variation in radius lengths)\n",
            "        - compactness (perimeter^2 / area - 1.0)\n",
            "        - concavity (severity of concave portions of the contour)\n",
            "        - concave points (number of concave portions of the contour)\n",
            "        - symmetry \n",
            "        - fractal dimension (\"coastline approximation\" - 1)\n",
            "\n",
            "        The mean, standard error, and \"worst\" or largest (mean of the three\n",
            "        largest values) of these features were computed for each image,\n",
            "        resulting in 30 features.  For instance, field 3 is Mean Radius, field\n",
            "        13 is Radius SE, field 23 is Worst Radius.\n",
            "\n",
            "        - class:\n",
            "                - WDBC-Malignant\n",
            "                - WDBC-Benign\n",
            "\n",
            "    :Summary Statistics:\n",
            "\n",
            "    ===================================== ====== ======\n",
            "                                           Min    Max\n",
            "    ===================================== ====== ======\n",
            "    radius (mean):                        6.981  28.11\n",
            "    texture (mean):                       9.71   39.28\n",
            "    perimeter (mean):                     43.79  188.5\n",
            "    area (mean):                          143.5  2501.0\n",
            "    smoothness (mean):                    0.053  0.163\n",
            "    compactness (mean):                   0.019  0.345\n",
            "    concavity (mean):                     0.0    0.427\n",
            "    concave points (mean):                0.0    0.201\n",
            "    symmetry (mean):                      0.106  0.304\n",
            "    fractal dimension (mean):             0.05   0.097\n",
            "    radius (standard error):              0.112  2.873\n",
            "    texture (standard error):             0.36   4.885\n",
            "    perimeter (standard error):           0.757  21.98\n",
            "    area (standard error):                6.802  542.2\n",
            "    smoothness (standard error):          0.002  0.031\n",
            "    compactness (standard error):         0.002  0.135\n",
            "    concavity (standard error):           0.0    0.396\n",
            "    concave points (standard error):      0.0    0.053\n",
            "    symmetry (standard error):            0.008  0.079\n",
            "    fractal dimension (standard error):   0.001  0.03\n",
            "    radius (worst):                       7.93   36.04\n",
            "    texture (worst):                      12.02  49.54\n",
            "    perimeter (worst):                    50.41  251.2\n",
            "    area (worst):                         185.2  4254.0\n",
            "    smoothness (worst):                   0.071  0.223\n",
            "    compactness (worst):                  0.027  1.058\n",
            "    concavity (worst):                    0.0    1.252\n",
            "    concave points (worst):               0.0    0.291\n",
            "    symmetry (worst):                     0.156  0.664\n",
            "    fractal dimension (worst):            0.055  0.208\n",
            "    ===================================== ====== ======\n",
            "\n",
            "    :Missing Attribute Values: None\n",
            "\n",
            "    :Class Distribution: 212 - Malignant, 357 - Benign\n",
            "\n",
            "    :Creator:  Dr. William H. Wolberg, W. Nick Street, Olvi L. Mangasarian\n",
            "\n",
            "    :Donor: Nick Street\n",
            "\n",
            "    :Date: November, 1995\n",
            "\n",
            "This is a copy of UCI ML Breast Cancer Wisconsin (Diagnostic) datasets.\n",
            "https://goo.gl/U2Uwz2\n",
            "\n",
            "Features are computed from a digitized image of a fine needle\n",
            "aspirate (FNA) of a breast mass.  They describe\n",
            "characteristics of the cell nuclei present in the image.\n",
            "\n",
            "Separating plane described above was obtained using\n",
            "Multisurface Method-Tree (MSM-T) [K. P. Bennett, \"Decision Tree\n",
            "Construction Via Linear Programming.\" Proceedings of the 4th\n",
            "Midwest Artificial Intelligence and Cognitive Science Society,\n",
            "pp. 97-101, 1992], a classification method which uses linear\n",
            "programming to construct a decision tree.  Relevant features\n",
            "were selected using an exhaustive search in the space of 1-4\n",
            "features and 1-3 separating planes.\n",
            "\n",
            "The actual linear program used to obtain the separating plane\n",
            "in the 3-dimensional space is that described in:\n",
            "[K. P. Bennett and O. L. Mangasarian: \"Robust Linear\n",
            "Programming Discrimination of Two Linearly Inseparable Sets\",\n",
            "Optimization Methods and Software 1, 1992, 23-34].\n",
            "\n",
            "This database is also available through the UW CS ftp server:\n",
            "\n",
            "ftp ftp.cs.wisc.edu\n",
            "cd math-prog/cpo-dataset/machine-learn/WDBC/\n",
            "\n",
            "References\n",
            "----------\n",
            "   - W.N. Street, W.H. Wolberg and O.L. Mangasarian. Nuclear feature extraction \n",
            "     for breast tumor diagnosis. IS&T/SPIE 1993 International Symposium on \n",
            "     Electronic Imaging: Science and Technology, volume 1905, pages 861-870,\n",
            "     San Jose, CA, 1993.\n",
            "   - O.L. Mangasarian, W.N. Street and W.H. Wolberg. Breast cancer diagnosis and \n",
            "     prognosis via linear programming. Operations Research, 43(4), pages 570-577, \n",
            "     July-August 1995.\n",
            "   - W.H. Wolberg, W.N. Street, and O.L. Mangasarian. Machine learning techniques\n",
            "     to diagnose breast cancer from fine-needle aspirates. Cancer Letters 77 (1994) \n",
            "     163-171.\n",
            "\n"
          ],
          "name": "stdout"
        }
      ]
    },
    {
      "metadata": {
        "id": "S5pYln4Brnc6",
        "colab_type": "code",
        "colab": {}
      },
      "cell_type": "code",
      "source": [
        "idx = [1, 29] # choose the features for modeling, you can change the idx and see what will happen\n",
        "X = df_bc['data'][:, idx] # X is your feature set\n",
        "y = df_bc['target'] # y is the target, the label\n",
        "X_train, X_test, y_train, y_test = train_test_split(X, y, test_size=0.30, random_state=42) # split your data to train/test sets\n",
        "\n",
        "feat = [x for x in df_bc['feature_names'][idx]]"
      ],
      "execution_count": 0,
      "outputs": []
    },
    {
      "metadata": {
        "id": "u3HTF8Nr0IlT",
        "colab_type": "text"
      },
      "cell_type": "markdown",
      "source": [
        "Above, we've extracted only two features out of the breast cancer dataset as predictors for tumor or not.\n",
        "Then, we run six different machine learning algorithms to build the classifier for predicting tumor or not.\n",
        "\n",
        "We quickly visualize the results of all the models we have presented here. \n",
        "In the figure, we can see the decision boundaries created by the models.\n",
        "These boundaries can be a source of interpretability of the clinical predictive model.\n",
        "We also print out their performance as measured by the Area Under the Receiver Operator Characteristic curve (AUROC), which is a commonly used metrics in machine learning world."
      ]
    },
    {
      "metadata": {
        "id": "8mlvRFyUzePi",
        "colab_type": "code",
        "colab": {
          "base_uri": "https://localhost:8080/",
          "height": 688
        },
        "outputId": "ef0fb663-4698-4473-f18c-4397f2dc3b65"
      },
      "cell_type": "code",
      "source": [
        "# we put all algorithms in a dictionary, you can add/remove them\n",
        "# there are many algorithms in scikit-learn you can try: \n",
        "# http://scikit-learn.org/stable/supervised_learning.html#supervised-learning\n",
        "# the `.fit` step is the training process\n",
        "clf = dict()\n",
        "clf['Logistic Regression'] = LogisticRegression(fit_intercept=True).fit(X_train,y_train)\n",
        "clf['Decision Tree'] = DecisionTreeClassifier(criterion='entropy', splitter='best').fit(X_train,y_train)\n",
        "clf['Gradient Boosting'] = GradientBoostingClassifier(n_estimators=10).fit(X_train, y_train)\n",
        "clf['Random Forest'] = RandomForestClassifier(n_estimators=10).fit(X_train, y_train)\n",
        "clf['Bagging'] = BaggingClassifier(n_estimators=10).fit(X_train, y_train)\n",
        "clf['AdaBoost'] = AdaBoostClassifier(n_estimators=10).fit(X_train, y_train)\n",
        "\n",
        "# visualization\n",
        "fig = plt.figure(figsize=[16,9])\n",
        "\n",
        "print('AUROC\\tModel')\n",
        "for i, curr_mdl in enumerate(clf):\n",
        "    yhat = clf[curr_mdl].predict_proba(X_test)[:,1] # prediction\n",
        "    score = metrics.roc_auc_score(y_test, yhat) # get AUROC\n",
        "    print('{:0.3f}\\t{}'.format(score, curr_mdl))\n",
        "    ax = fig.add_subplot(2,3,i+1)\n",
        "    plot_model_pred_2d(clf[curr_mdl], X_test, y_test, feat) # we define this function in the beginning\n",
        "    plt.title(curr_mdl)\n",
        "    \n",
        "plt.show()"
      ],
      "execution_count": 6,
      "outputs": [
        {
          "output_type": "stream",
          "text": [
            "AUROC\tModel\n",
            "0.780\tLogistic Regression\n",
            "0.678\tDecision Tree\n",
            "0.807\tGradient Boosting\n",
            "0.798\tRandom Forest\n",
            "0.776\tBagging\n",
            "0.801\tAdaBoost\n"
          ],
          "name": "stdout"
        },
        {
          "output_type": "display_data",
          "data": {
            "image/png": "[encoded data removed]",
            "text/plain": [
              "<matplotlib.figure.Figure at 0x7f8f3996ae48>"
            ]
          },
          "metadata": {
            "tags": []
          }
        }
      ]
    },
    {
      "metadata": {
        "id": "1NDKbl9b0L3a",
        "colab_type": "text"
      },
      "cell_type": "markdown",
      "source": [
        "Here we can see that quantitatively, Logistic Regression, AdaBoost and Gradient Boosting have produced the highest discrimination among all the models (~0.80). \n",
        "The decision surfaces of these models also seem simpler, and less \"noisy\", which is likely the reason for the improved **generalization** on the held out test set.\n",
        "\n",
        "### K-fold cross-validation\n",
        "\n",
        "Now we will include all features of the breast cancer dataset - we will no longer be able to easily visualize the models, but we will be able to better evaluate them. \n",
        "We'll also switch to using **5-fold cross-validation** to get a good estimate of the generalization performance of the model.\n",
        "For the k-fold cross-validation, you can still split the data to train/test sets to make your models much robust."
      ]
    },
    {
      "metadata": {
        "id": "y4sDcTBjz31R",
        "colab_type": "code",
        "colab": {
          "base_uri": "https://localhost:8080/",
          "height": 140
        },
        "outputId": "9a67dab1-f5e8-49b1-922b-f101edf39c14"
      },
      "cell_type": "code",
      "source": [
        "# use all features\n",
        "X = df_bc['data']\n",
        "y = df_bc['target']\n",
        "\n",
        "# use cross-validation to estimate the performance of each model\n",
        "print('Acc\\tAUROC\\tModel')\n",
        "for curr_mdl in clf:\n",
        "    scores = cross_val_score(clf[curr_mdl], X, y, cv=5, scoring='accuracy')\n",
        "    auc = cross_val_score(clf[curr_mdl], X, y, cv=5, scoring='roc_auc')\n",
        "    print('{:0.3f}\\t{:0.3f}\\t{}'.format(scores.mean(), auc.mean(), curr_mdl))"
      ],
      "execution_count": 7,
      "outputs": [
        {
          "output_type": "stream",
          "text": [
            "Acc\tAUROC\tModel\n",
            "0.953\t0.992\tLogistic Regression\n",
            "0.931\t0.928\tDecision Tree\n",
            "0.947\t0.981\tGradient Boosting\n",
            "0.947\t0.988\tRandom Forest\n",
            "0.953\t0.980\tBagging\n",
            "0.946\t0.988\tAdaBoost\n"
          ],
          "name": "stdout"
        }
      ]
    },
    {
      "metadata": {
        "id": "KlLzJkbq0Osd",
        "colab_type": "text"
      },
      "cell_type": "markdown",
      "source": [
        "We note two things here:\n",
        "\n",
        "1. by **using the entire feature set** we have dramatically improved performance of the model, indicating that there was more information contained in the other columns, and\n",
        "2. most of our models are performing relatively equivalently (except for the super simple model, the decision tree), and do not forget **logistic regression**!"
      ]
    },
    {
      "metadata": {
        "id": "1PECpeMGzBZ1",
        "colab_type": "text"
      },
      "cell_type": "markdown",
      "source": [
        "## PhysioNet\n",
        "We'll now practice using these models on a dataset acquired from patients admitted to intensive care units at the Beth Israel Deaconness Medical Center in Boston, MA. \n",
        "All patients in the cohort stayed for at least 48 hours, and the goal of the prediction task is to predict in-hospital mortality. \n",
        "If you're interested, you can read more about the dataset [here](http://physionet.org/challenge/2012/).\n",
        "\n",
        "The data is originally provided as hourly observations for a number of variables, and the preprocessing step involved extracting summary statistics across all these observations.\n",
        "The outcome is the first column `hospitalmortality` (`0` means alive while discharge).\n",
        "The rest of the data are features you can use to predict this binary outcome.\n",
        "\n",
        "We will again try to build the classifier using logistic regression.\n",
        "You may want to use decision trees, AdaBoost, Random Forest, Bagging, and Gradient Boosting. \n",
        "Pick your favourite and play with the parameters to see how well you can do.\n",
        "Be sure to use cross-validation to make sure you don't overfit.\n",
        "\n",
        "First, we start from loading the data and look at all columns in the dataset---there are 182 possible predictors and one outcome variable.\n",
        "\n",
        "This time we read the data in a slightly different way using pandas `dataframe` format. \n",
        "However, the idea is the same."
      ]
    },
    {
      "metadata": {
        "id": "EQPT1u6z2ZYQ",
        "colab_type": "code",
        "colab": {
          "base_uri": "https://localhost:8080/",
          "height": 238
        },
        "outputId": "eaf0c000-bc4c-4de1-feac-ca6b99118bef"
      },
      "cell_type": "code",
      "source": [
        "df = pd.read_csv('https://raw.githubusercontent.com/ckbjimmy/2018_mlw/master/data/PhysionetChallenge2012_data.csv')\n",
        "df.head()"
      ],
      "execution_count": 8,
      "outputs": [
        {
          "output_type": "execute_result",
          "data": {
            "text/html": [
              "<div>\n",
              "<style scoped>\n",
              "    .dataframe tbody tr th:only-of-type {\n",
              "        vertical-align: middle;\n",
              "    }\n",
              "\n",
              "    .dataframe tbody tr th {\n",
              "        vertical-align: top;\n",
              "    }\n",
              "\n",
              "    .dataframe thead th {\n",
              "        text-align: right;\n",
              "    }\n",
              "</style>\n",
              "<table border=\"1\" class=\"dataframe\">\n",
              "  <thead>\n",
              "    <tr style=\"text-align: right;\">\n",
              "      <th></th>\n",
              "      <th>hospitalmortality</th>\n",
              "      <th>ALPMin</th>\n",
              "      <th>ALPMax</th>\n",
              "      <th>ALPFirst</th>\n",
              "      <th>ALPLast</th>\n",
              "      <th>ALPMedian</th>\n",
              "      <th>ALTMin</th>\n",
              "      <th>ALTMax</th>\n",
              "      <th>ALTFirst</th>\n",
              "      <th>ALTLast</th>\n",
              "      <th>...</th>\n",
              "      <th>pHMax</th>\n",
              "      <th>pHFirst</th>\n",
              "      <th>pHLast</th>\n",
              "      <th>pHMedian</th>\n",
              "      <th>MechVentFirst</th>\n",
              "      <th>MechVentLast</th>\n",
              "      <th>MechVentMax</th>\n",
              "      <th>MechVentStartTime</th>\n",
              "      <th>MechVentDuration</th>\n",
              "      <th>TroponinMeasured</th>\n",
              "    </tr>\n",
              "  </thead>\n",
              "  <tbody>\n",
              "    <tr>\n",
              "      <th>0</th>\n",
              "      <td>0.0</td>\n",
              "      <td>NaN</td>\n",
              "      <td>NaN</td>\n",
              "      <td>NaN</td>\n",
              "      <td>NaN</td>\n",
              "      <td>NaN</td>\n",
              "      <td>NaN</td>\n",
              "      <td>NaN</td>\n",
              "      <td>NaN</td>\n",
              "      <td>NaN</td>\n",
              "      <td>...</td>\n",
              "      <td>NaN</td>\n",
              "      <td>NaN</td>\n",
              "      <td>NaN</td>\n",
              "      <td>NaN</td>\n",
              "      <td>0.0</td>\n",
              "      <td>0.0</td>\n",
              "      <td>0.0</td>\n",
              "      <td>0.0</td>\n",
              "      <td>0.0</td>\n",
              "      <td>0.0</td>\n",
              "    </tr>\n",
              "    <tr>\n",
              "      <th>1</th>\n",
              "      <td>0.0</td>\n",
              "      <td>NaN</td>\n",
              "      <td>NaN</td>\n",
              "      <td>NaN</td>\n",
              "      <td>NaN</td>\n",
              "      <td>NaN</td>\n",
              "      <td>NaN</td>\n",
              "      <td>NaN</td>\n",
              "      <td>NaN</td>\n",
              "      <td>NaN</td>\n",
              "      <td>...</td>\n",
              "      <td>7.45</td>\n",
              "      <td>7.45</td>\n",
              "      <td>7.37</td>\n",
              "      <td>7.4</td>\n",
              "      <td>1.0</td>\n",
              "      <td>0.0</td>\n",
              "      <td>1.0</td>\n",
              "      <td>71.0</td>\n",
              "      <td>360.0</td>\n",
              "      <td>0.0</td>\n",
              "    </tr>\n",
              "    <tr>\n",
              "      <th>2</th>\n",
              "      <td>0.0</td>\n",
              "      <td>105.0</td>\n",
              "      <td>127.0</td>\n",
              "      <td>127.0</td>\n",
              "      <td>105.0</td>\n",
              "      <td>116.0</td>\n",
              "      <td>75.0</td>\n",
              "      <td>91.0</td>\n",
              "      <td>91.0</td>\n",
              "      <td>75.0</td>\n",
              "      <td>...</td>\n",
              "      <td>7.51</td>\n",
              "      <td>7.51</td>\n",
              "      <td>7.47</td>\n",
              "      <td>7.5</td>\n",
              "      <td>0.0</td>\n",
              "      <td>1.0</td>\n",
              "      <td>1.0</td>\n",
              "      <td>617.0</td>\n",
              "      <td>2160.0</td>\n",
              "      <td>0.0</td>\n",
              "    </tr>\n",
              "    <tr>\n",
              "      <th>3</th>\n",
              "      <td>0.0</td>\n",
              "      <td>105.0</td>\n",
              "      <td>105.0</td>\n",
              "      <td>105.0</td>\n",
              "      <td>105.0</td>\n",
              "      <td>105.0</td>\n",
              "      <td>12.0</td>\n",
              "      <td>12.0</td>\n",
              "      <td>12.0</td>\n",
              "      <td>12.0</td>\n",
              "      <td>...</td>\n",
              "      <td>NaN</td>\n",
              "      <td>NaN</td>\n",
              "      <td>NaN</td>\n",
              "      <td>NaN</td>\n",
              "      <td>0.0</td>\n",
              "      <td>0.0</td>\n",
              "      <td>0.0</td>\n",
              "      <td>0.0</td>\n",
              "      <td>0.0</td>\n",
              "      <td>0.0</td>\n",
              "    </tr>\n",
              "    <tr>\n",
              "      <th>4</th>\n",
              "      <td>0.0</td>\n",
              "      <td>NaN</td>\n",
              "      <td>NaN</td>\n",
              "      <td>NaN</td>\n",
              "      <td>NaN</td>\n",
              "      <td>NaN</td>\n",
              "      <td>NaN</td>\n",
              "      <td>NaN</td>\n",
              "      <td>NaN</td>\n",
              "      <td>NaN</td>\n",
              "      <td>...</td>\n",
              "      <td>NaN</td>\n",
              "      <td>NaN</td>\n",
              "      <td>NaN</td>\n",
              "      <td>NaN</td>\n",
              "      <td>0.0</td>\n",
              "      <td>0.0</td>\n",
              "      <td>0.0</td>\n",
              "      <td>0.0</td>\n",
              "      <td>0.0</td>\n",
              "      <td>0.0</td>\n",
              "    </tr>\n",
              "  </tbody>\n",
              "</table>\n",
              "<p>5 rows × 183 columns</p>\n",
              "</div>"
            ],
            "text/plain": [
              "   hospitalmortality  ALPMin  ALPMax  ALPFirst  ALPLast  ALPMedian  ALTMin  \\\n",
              "0                0.0     NaN     NaN       NaN      NaN        NaN     NaN   \n",
              "1                0.0     NaN     NaN       NaN      NaN        NaN     NaN   \n",
              "2                0.0   105.0   127.0     127.0    105.0      116.0    75.0   \n",
              "3                0.0   105.0   105.0     105.0    105.0      105.0    12.0   \n",
              "4                0.0     NaN     NaN       NaN      NaN        NaN     NaN   \n",
              "\n",
              "   ALTMax  ALTFirst  ALTLast        ...         pHMax  pHFirst  pHLast  \\\n",
              "0     NaN       NaN      NaN        ...           NaN      NaN     NaN   \n",
              "1     NaN       NaN      NaN        ...          7.45     7.45    7.37   \n",
              "2    91.0      91.0     75.0        ...          7.51     7.51    7.47   \n",
              "3    12.0      12.0     12.0        ...           NaN      NaN     NaN   \n",
              "4     NaN       NaN      NaN        ...           NaN      NaN     NaN   \n",
              "\n",
              "   pHMedian  MechVentFirst  MechVentLast  MechVentMax  MechVentStartTime  \\\n",
              "0       NaN            0.0           0.0          0.0                0.0   \n",
              "1       7.4            1.0           0.0          1.0               71.0   \n",
              "2       7.5            0.0           1.0          1.0              617.0   \n",
              "3       NaN            0.0           0.0          0.0                0.0   \n",
              "4       NaN            0.0           0.0          0.0                0.0   \n",
              "\n",
              "   MechVentDuration  TroponinMeasured  \n",
              "0               0.0               0.0  \n",
              "1             360.0               0.0  \n",
              "2            2160.0               0.0  \n",
              "3               0.0               0.0  \n",
              "4               0.0               0.0  \n",
              "\n",
              "[5 rows x 183 columns]"
            ]
          },
          "metadata": {
            "tags": []
          },
          "execution_count": 8
        }
      ]
    },
    {
      "metadata": {
        "id": "UpSdfcIS6N3T",
        "colab_type": "code",
        "colab": {
          "base_uri": "https://localhost:8080/",
          "height": 55
        },
        "outputId": "05ed6545-32a8-4f18-888c-5357ebe54ca9"
      },
      "cell_type": "code",
      "source": [
        "# check our features\n",
        "print([x for x in df.columns])"
      ],
      "execution_count": 9,
      "outputs": [
        {
          "output_type": "stream",
          "text": [
            "['hospitalmortality', 'ALPMin', 'ALPMax', 'ALPFirst', 'ALPLast', 'ALPMedian', 'ALTMin', 'ALTMax', 'ALTFirst', 'ALTLast', 'ALTMedian', 'ASTMin', 'ASTMax', 'ASTFirst', 'ASTLast', 'ASTMedian', 'Age', 'AlbuminMin', 'AlbuminMax', 'AlbuminFirst', 'AlbuminLast', 'AlbuminMedian', 'BUNMin', 'BUNMax', 'BUNFirst', 'BUNLast', 'BUNMedian', 'BilirubinMin', 'BilirubinMax', 'BilirubinFirst', 'BilirubinLast', 'BilirubinMedian', 'CholesterolFirst', 'CholesterolLast', 'CreatinineMin', 'CreatinineMax', 'CreatinineFirst', 'CreatinineLast', 'CreatinineMedian', 'DiasABPMin', 'DiasABPMax', 'DiasABPFirst', 'DiasABPLast', 'DiasABPMedian', 'FiO2Min', 'FiO2Max', 'FiO2First', 'FiO2Last', 'FiO2Median', 'GCSMin', 'GCSMax', 'GCSFirst', 'GCSLast', 'GCSMedian', 'Gender', 'GlucoseMin', 'GlucoseMax', 'GlucoseFirst', 'GlucoseLast', 'GlucoseMedian', 'HCO3Min', 'HCO3Max', 'HCO3First', 'HCO3Last', 'HCO3Median', 'HCTMin', 'HCTMax', 'HCTFirst', 'HCTLast', 'HCTMedian', 'HRMin', 'HRMax', 'HRFirst', 'HRLast', 'HRMedian', 'Height', 'CCU', 'CSRU', 'MICU', 'SICU', 'KMin', 'KMax', 'KFirst', 'KLast', 'KMedian', 'LactateMin', 'LactateMax', 'LactateFirst', 'LactateLast', 'LactateMedian', 'MAPMin', 'MAPMax', 'MAPFirst', 'MAPLast', 'MAPMedian', 'MgMin', 'MgMax', 'MgFirst', 'MgLast', 'MgMedian', 'NIDiasABPMin', 'NIDiasABPMax', 'NIDiasABPFirst', 'NIDiasABPLast', 'NIDiasABPMedian', 'NIMAPMin', 'NIMAPMax', 'NIMAPFirst', 'NIMAPLast', 'NIMAPMedian', 'NISysABPMin', 'NISysABPMax', 'NISysABPFirst', 'NISysABPLast', 'NISysABPMedian', 'NaMin', 'NaMax', 'NaFirst', 'NaLast', 'NaMedian', 'PaCO2Min', 'PaCO2Max', 'PaCO2First', 'PaCO2Last', 'PaCO2Median', 'PaO2Min', 'PaO2Max', 'PaO2First', 'PaO2Last', 'PaO2Median', 'PlateletsMin', 'PlateletsMax', 'PlateletsFirst', 'PlateletsLast', 'PlateletsMedian', 'RespRateMin', 'RespRateMax', 'RespRateFirst', 'RespRateLast', 'RespRateMedian', 'SaO2Min', 'SaO2Max', 'SaO2First', 'SaO2Last', 'SaO2Median', 'SysABPMin', 'SysABPMax', 'SysABPFirst', 'SysABPLast', 'SysABPMedian', 'TempMin', 'TempMax', 'TempFirst', 'TempLast', 'TempMedian', 'TroponinIFirst', 'TroponinILast', 'TroponinTFirst', 'TroponinTLast', 'UrineMin', 'UrineMax', 'UrineFirst', 'UrineLast', 'UrineMedian', 'WBCMin', 'WBCMax', 'WBCFirst', 'WBCLast', 'WBCMedian', 'WeightFirst', 'WeightLast', 'WeightInitMedian', 'pHMin', 'pHMax', 'pHFirst', 'pHLast', 'pHMedian', 'MechVentFirst', 'MechVentLast', 'MechVentMax', 'MechVentStartTime', 'MechVentDuration', 'TroponinMeasured']\n"
          ],
          "name": "stdout"
        }
      ]
    },
    {
      "metadata": {
        "id": "_gySSCmuBt0y",
        "colab_type": "text"
      },
      "cell_type": "markdown",
      "source": [
        "Next, we split features and outcome variables."
      ]
    },
    {
      "metadata": {
        "id": "EWP4-EAqxde1",
        "colab_type": "code",
        "colab": {}
      },
      "cell_type": "code",
      "source": [
        "# first column [0] is target (outcome variable)\n",
        "y = df['hospitalmortality'].values\n",
        "\n",
        "# second column onward [1:] are features \n",
        "X = df.drop(['hospitalmortality'], axis=1).values\n",
        "\n",
        "# we keep the feature name in X_header\n",
        "X_header = df.drop(['hospitalmortality'],axis=1).columns"
      ],
      "execution_count": 0,
      "outputs": []
    },
    {
      "metadata": {
        "id": "xWTgWn0bCC5c",
        "colab_type": "code",
        "colab": {
          "base_uri": "https://localhost:8080/",
          "height": 678
        },
        "outputId": "ef0d3c28-6a5c-41e5-cdc5-00ee242d7492"
      },
      "cell_type": "code",
      "source": [
        "# train a simple logistic regression, and...\n",
        "clf = LogisticRegression(fit_intercept=True).fit(X, y)"
      ],
      "execution_count": 11,
      "outputs": [
        {
          "output_type": "error",
          "ename": "ValueError",
          "evalue": "ignored",
          "traceback": [
            "\u001b[0;31m---------------------------------------------------------------------------\u001b[0m",
            "\u001b[0;31mValueError\u001b[0m                                Traceback (most recent call last)",
            "\u001b[0;32m<ipython-input-11-e62c06311945>\u001b[0m in \u001b[0;36m<module>\u001b[0;34m()\u001b[0m\n\u001b[0;32m----> 1\u001b[0;31m \u001b[0mclf\u001b[0m \u001b[0;34m=\u001b[0m \u001b[0mLogisticRegression\u001b[0m\u001b[0;34m(\u001b[0m\u001b[0mfit_intercept\u001b[0m\u001b[0;34m=\u001b[0m\u001b[0;32mTrue\u001b[0m\u001b[0;34m)\u001b[0m\u001b[0;34m.\u001b[0m\u001b[0mfit\u001b[0m\u001b[0;34m(\u001b[0m\u001b[0mX\u001b[0m\u001b[0;34m,\u001b[0m \u001b[0my\u001b[0m\u001b[0;34m)\u001b[0m\u001b[0;34m\u001b[0m\u001b[0m\n\u001b[0m",
            "\u001b[0;32m/usr/local/lib/python3.6/dist-packages/sklearn/linear_model/logistic.py\u001b[0m in \u001b[0;36mfit\u001b[0;34m(self, X, y, sample_weight)\u001b[0m\n\u001b[1;32m   1214\u001b[0m \u001b[0;34m\u001b[0m\u001b[0m\n\u001b[1;32m   1215\u001b[0m         X, y = check_X_y(X, y, accept_sparse='csr', dtype=_dtype,\n\u001b[0;32m-> 1216\u001b[0;31m                          order=\"C\")\n\u001b[0m\u001b[1;32m   1217\u001b[0m         \u001b[0mcheck_classification_targets\u001b[0m\u001b[0;34m(\u001b[0m\u001b[0my\u001b[0m\u001b[0;34m)\u001b[0m\u001b[0;34m\u001b[0m\u001b[0m\n\u001b[1;32m   1218\u001b[0m         \u001b[0mself\u001b[0m\u001b[0;34m.\u001b[0m\u001b[0mclasses_\u001b[0m \u001b[0;34m=\u001b[0m \u001b[0mnp\u001b[0m\u001b[0;34m.\u001b[0m\u001b[0munique\u001b[0m\u001b[0;34m(\u001b[0m\u001b[0my\u001b[0m\u001b[0;34m)\u001b[0m\u001b[0;34m\u001b[0m\u001b[0m\n",
            "\u001b[0;32m/usr/local/lib/python3.6/dist-packages/sklearn/utils/validation.py\u001b[0m in \u001b[0;36mcheck_X_y\u001b[0;34m(X, y, accept_sparse, dtype, order, copy, force_all_finite, ensure_2d, allow_nd, multi_output, ensure_min_samples, ensure_min_features, y_numeric, warn_on_dtype, estimator)\u001b[0m\n\u001b[1;32m    571\u001b[0m     X = check_array(X, accept_sparse, dtype, order, copy, force_all_finite,\n\u001b[1;32m    572\u001b[0m                     \u001b[0mensure_2d\u001b[0m\u001b[0;34m,\u001b[0m \u001b[0mallow_nd\u001b[0m\u001b[0;34m,\u001b[0m \u001b[0mensure_min_samples\u001b[0m\u001b[0;34m,\u001b[0m\u001b[0;34m\u001b[0m\u001b[0m\n\u001b[0;32m--> 573\u001b[0;31m                     ensure_min_features, warn_on_dtype, estimator)\n\u001b[0m\u001b[1;32m    574\u001b[0m     \u001b[0;32mif\u001b[0m \u001b[0mmulti_output\u001b[0m\u001b[0;34m:\u001b[0m\u001b[0;34m\u001b[0m\u001b[0m\n\u001b[1;32m    575\u001b[0m         y = check_array(y, 'csr', force_all_finite=True, ensure_2d=False,\n",
            "\u001b[0;32m/usr/local/lib/python3.6/dist-packages/sklearn/utils/validation.py\u001b[0m in \u001b[0;36mcheck_array\u001b[0;34m(array, accept_sparse, dtype, order, copy, force_all_finite, ensure_2d, allow_nd, ensure_min_samples, ensure_min_features, warn_on_dtype, estimator)\u001b[0m\n\u001b[1;32m    451\u001b[0m                              % (array.ndim, estimator_name))\n\u001b[1;32m    452\u001b[0m         \u001b[0;32mif\u001b[0m \u001b[0mforce_all_finite\u001b[0m\u001b[0;34m:\u001b[0m\u001b[0;34m\u001b[0m\u001b[0m\n\u001b[0;32m--> 453\u001b[0;31m             \u001b[0m_assert_all_finite\u001b[0m\u001b[0;34m(\u001b[0m\u001b[0marray\u001b[0m\u001b[0;34m)\u001b[0m\u001b[0;34m\u001b[0m\u001b[0m\n\u001b[0m\u001b[1;32m    454\u001b[0m \u001b[0;34m\u001b[0m\u001b[0m\n\u001b[1;32m    455\u001b[0m     \u001b[0mshape_repr\u001b[0m \u001b[0;34m=\u001b[0m \u001b[0m_shape_repr\u001b[0m\u001b[0;34m(\u001b[0m\u001b[0marray\u001b[0m\u001b[0;34m.\u001b[0m\u001b[0mshape\u001b[0m\u001b[0;34m)\u001b[0m\u001b[0;34m\u001b[0m\u001b[0m\n",
            "\u001b[0;32m/usr/local/lib/python3.6/dist-packages/sklearn/utils/validation.py\u001b[0m in \u001b[0;36m_assert_all_finite\u001b[0;34m(X)\u001b[0m\n\u001b[1;32m     42\u001b[0m             and not np.isfinite(X).all()):\n\u001b[1;32m     43\u001b[0m         raise ValueError(\"Input contains NaN, infinity\"\n\u001b[0;32m---> 44\u001b[0;31m                          \" or a value too large for %r.\" % X.dtype)\n\u001b[0m\u001b[1;32m     45\u001b[0m \u001b[0;34m\u001b[0m\u001b[0m\n\u001b[1;32m     46\u001b[0m \u001b[0;34m\u001b[0m\u001b[0m\n",
            "\u001b[0;31mValueError\u001b[0m: Input contains NaN, infinity or a value too large for dtype('float64')."
          ]
        }
      ]
    },
    {
      "metadata": {
        "id": "w5pvjOujGT19",
        "colab_type": "text"
      },
      "cell_type": "markdown",
      "source": [
        "The above statement Input contains `NaN` tells us that we have missing data! (Alistair: Dramatic music plays).\n",
        "\n",
        "Good thing about Google colab---they have a button for you to search stackoverflow.\n",
        "\n",
        "We then check the `NaN` using the transpose view. \n",
        "There are a lot `NaN` in our dataset."
      ]
    },
    {
      "metadata": {
        "id": "t_bOTDBexhap",
        "colab_type": "code",
        "colab": {
          "base_uri": "https://localhost:8080/",
          "height": 1828
        },
        "outputId": "3f334200-7e93-43e7-8465-0c5386957ae4"
      },
      "cell_type": "code",
      "source": [
        "df.head().T"
      ],
      "execution_count": 12,
      "outputs": [
        {
          "output_type": "execute_result",
          "data": {
            "text/html": [
              "<div>\n",
              "<style scoped>\n",
              "    .dataframe tbody tr th:only-of-type {\n",
              "        vertical-align: middle;\n",
              "    }\n",
              "\n",
              "    .dataframe tbody tr th {\n",
              "        vertical-align: top;\n",
              "    }\n",
              "\n",
              "    .dataframe thead th {\n",
              "        text-align: right;\n",
              "    }\n",
              "</style>\n",
              "<table border=\"1\" class=\"dataframe\">\n",
              "  <thead>\n",
              "    <tr style=\"text-align: right;\">\n",
              "      <th></th>\n",
              "      <th>0</th>\n",
              "      <th>1</th>\n",
              "      <th>2</th>\n",
              "      <th>3</th>\n",
              "      <th>4</th>\n",
              "    </tr>\n",
              "  </thead>\n",
              "  <tbody>\n",
              "    <tr>\n",
              "      <th>hospitalmortality</th>\n",
              "      <td>0.0</td>\n",
              "      <td>0.00</td>\n",
              "      <td>0.00</td>\n",
              "      <td>0.0</td>\n",
              "      <td>0.0</td>\n",
              "    </tr>\n",
              "    <tr>\n",
              "      <th>ALPMin</th>\n",
              "      <td>NaN</td>\n",
              "      <td>NaN</td>\n",
              "      <td>105.00</td>\n",
              "      <td>105.0</td>\n",
              "      <td>NaN</td>\n",
              "    </tr>\n",
              "    <tr>\n",
              "      <th>ALPMax</th>\n",
              "      <td>NaN</td>\n",
              "      <td>NaN</td>\n",
              "      <td>127.00</td>\n",
              "      <td>105.0</td>\n",
              "      <td>NaN</td>\n",
              "    </tr>\n",
              "    <tr>\n",
              "      <th>ALPFirst</th>\n",
              "      <td>NaN</td>\n",
              "      <td>NaN</td>\n",
              "      <td>127.00</td>\n",
              "      <td>105.0</td>\n",
              "      <td>NaN</td>\n",
              "    </tr>\n",
              "    <tr>\n",
              "      <th>ALPLast</th>\n",
              "      <td>NaN</td>\n",
              "      <td>NaN</td>\n",
              "      <td>105.00</td>\n",
              "      <td>105.0</td>\n",
              "      <td>NaN</td>\n",
              "    </tr>\n",
              "    <tr>\n",
              "      <th>ALPMedian</th>\n",
              "      <td>NaN</td>\n",
              "      <td>NaN</td>\n",
              "      <td>116.00</td>\n",
              "      <td>105.0</td>\n",
              "      <td>NaN</td>\n",
              "    </tr>\n",
              "    <tr>\n",
              "      <th>ALTMin</th>\n",
              "      <td>NaN</td>\n",
              "      <td>NaN</td>\n",
              "      <td>75.00</td>\n",
              "      <td>12.0</td>\n",
              "      <td>NaN</td>\n",
              "    </tr>\n",
              "    <tr>\n",
              "      <th>ALTMax</th>\n",
              "      <td>NaN</td>\n",
              "      <td>NaN</td>\n",
              "      <td>91.00</td>\n",
              "      <td>12.0</td>\n",
              "      <td>NaN</td>\n",
              "    </tr>\n",
              "    <tr>\n",
              "      <th>ALTFirst</th>\n",
              "      <td>NaN</td>\n",
              "      <td>NaN</td>\n",
              "      <td>91.00</td>\n",
              "      <td>12.0</td>\n",
              "      <td>NaN</td>\n",
              "    </tr>\n",
              "    <tr>\n",
              "      <th>ALTLast</th>\n",
              "      <td>NaN</td>\n",
              "      <td>NaN</td>\n",
              "      <td>75.00</td>\n",
              "      <td>12.0</td>\n",
              "      <td>NaN</td>\n",
              "    </tr>\n",
              "    <tr>\n",
              "      <th>ALTMedian</th>\n",
              "      <td>NaN</td>\n",
              "      <td>NaN</td>\n",
              "      <td>83.00</td>\n",
              "      <td>12.0</td>\n",
              "      <td>NaN</td>\n",
              "    </tr>\n",
              "    <tr>\n",
              "      <th>ASTMin</th>\n",
              "      <td>NaN</td>\n",
              "      <td>NaN</td>\n",
              "      <td>164.00</td>\n",
              "      <td>15.0</td>\n",
              "      <td>NaN</td>\n",
              "    </tr>\n",
              "    <tr>\n",
              "      <th>ASTMax</th>\n",
              "      <td>NaN</td>\n",
              "      <td>NaN</td>\n",
              "      <td>235.00</td>\n",
              "      <td>15.0</td>\n",
              "      <td>NaN</td>\n",
              "    </tr>\n",
              "    <tr>\n",
              "      <th>ASTFirst</th>\n",
              "      <td>NaN</td>\n",
              "      <td>NaN</td>\n",
              "      <td>235.00</td>\n",
              "      <td>15.0</td>\n",
              "      <td>NaN</td>\n",
              "    </tr>\n",
              "    <tr>\n",
              "      <th>ASTLast</th>\n",
              "      <td>NaN</td>\n",
              "      <td>NaN</td>\n",
              "      <td>164.00</td>\n",
              "      <td>15.0</td>\n",
              "      <td>NaN</td>\n",
              "    </tr>\n",
              "    <tr>\n",
              "      <th>ASTMedian</th>\n",
              "      <td>NaN</td>\n",
              "      <td>NaN</td>\n",
              "      <td>199.50</td>\n",
              "      <td>15.0</td>\n",
              "      <td>NaN</td>\n",
              "    </tr>\n",
              "    <tr>\n",
              "      <th>Age</th>\n",
              "      <td>54.0</td>\n",
              "      <td>76.00</td>\n",
              "      <td>44.00</td>\n",
              "      <td>68.0</td>\n",
              "      <td>88.0</td>\n",
              "    </tr>\n",
              "    <tr>\n",
              "      <th>AlbuminMin</th>\n",
              "      <td>NaN</td>\n",
              "      <td>NaN</td>\n",
              "      <td>2.30</td>\n",
              "      <td>4.4</td>\n",
              "      <td>3.3</td>\n",
              "    </tr>\n",
              "    <tr>\n",
              "      <th>AlbuminMax</th>\n",
              "      <td>NaN</td>\n",
              "      <td>NaN</td>\n",
              "      <td>2.70</td>\n",
              "      <td>4.4</td>\n",
              "      <td>3.3</td>\n",
              "    </tr>\n",
              "    <tr>\n",
              "      <th>AlbuminFirst</th>\n",
              "      <td>NaN</td>\n",
              "      <td>NaN</td>\n",
              "      <td>2.70</td>\n",
              "      <td>4.4</td>\n",
              "      <td>3.3</td>\n",
              "    </tr>\n",
              "    <tr>\n",
              "      <th>AlbuminLast</th>\n",
              "      <td>NaN</td>\n",
              "      <td>NaN</td>\n",
              "      <td>2.30</td>\n",
              "      <td>4.4</td>\n",
              "      <td>3.3</td>\n",
              "    </tr>\n",
              "    <tr>\n",
              "      <th>AlbuminMedian</th>\n",
              "      <td>NaN</td>\n",
              "      <td>NaN</td>\n",
              "      <td>2.50</td>\n",
              "      <td>4.4</td>\n",
              "      <td>3.3</td>\n",
              "    </tr>\n",
              "    <tr>\n",
              "      <th>BUNMin</th>\n",
              "      <td>8.0</td>\n",
              "      <td>16.00</td>\n",
              "      <td>3.00</td>\n",
              "      <td>10.0</td>\n",
              "      <td>25.0</td>\n",
              "    </tr>\n",
              "    <tr>\n",
              "      <th>BUNMax</th>\n",
              "      <td>13.0</td>\n",
              "      <td>21.00</td>\n",
              "      <td>8.00</td>\n",
              "      <td>23.0</td>\n",
              "      <td>45.0</td>\n",
              "    </tr>\n",
              "    <tr>\n",
              "      <th>BUNFirst</th>\n",
              "      <td>13.0</td>\n",
              "      <td>16.00</td>\n",
              "      <td>8.00</td>\n",
              "      <td>23.0</td>\n",
              "      <td>45.0</td>\n",
              "    </tr>\n",
              "    <tr>\n",
              "      <th>BUNLast</th>\n",
              "      <td>8.0</td>\n",
              "      <td>21.00</td>\n",
              "      <td>3.00</td>\n",
              "      <td>10.0</td>\n",
              "      <td>25.0</td>\n",
              "    </tr>\n",
              "    <tr>\n",
              "      <th>BUNMedian</th>\n",
              "      <td>10.5</td>\n",
              "      <td>18.00</td>\n",
              "      <td>3.00</td>\n",
              "      <td>20.0</td>\n",
              "      <td>35.0</td>\n",
              "    </tr>\n",
              "    <tr>\n",
              "      <th>BilirubinMin</th>\n",
              "      <td>NaN</td>\n",
              "      <td>NaN</td>\n",
              "      <td>2.80</td>\n",
              "      <td>0.2</td>\n",
              "      <td>NaN</td>\n",
              "    </tr>\n",
              "    <tr>\n",
              "      <th>BilirubinMax</th>\n",
              "      <td>NaN</td>\n",
              "      <td>NaN</td>\n",
              "      <td>3.00</td>\n",
              "      <td>0.2</td>\n",
              "      <td>NaN</td>\n",
              "    </tr>\n",
              "    <tr>\n",
              "      <th>BilirubinFirst</th>\n",
              "      <td>NaN</td>\n",
              "      <td>NaN</td>\n",
              "      <td>3.00</td>\n",
              "      <td>0.2</td>\n",
              "      <td>NaN</td>\n",
              "    </tr>\n",
              "    <tr>\n",
              "      <th>...</th>\n",
              "      <td>...</td>\n",
              "      <td>...</td>\n",
              "      <td>...</td>\n",
              "      <td>...</td>\n",
              "      <td>...</td>\n",
              "    </tr>\n",
              "    <tr>\n",
              "      <th>TempLast</th>\n",
              "      <td>37.8</td>\n",
              "      <td>37.10</td>\n",
              "      <td>37.20</td>\n",
              "      <td>37.0</td>\n",
              "      <td>36.7</td>\n",
              "    </tr>\n",
              "    <tr>\n",
              "      <th>TempMedian</th>\n",
              "      <td>37.7</td>\n",
              "      <td>37.45</td>\n",
              "      <td>37.85</td>\n",
              "      <td>36.4</td>\n",
              "      <td>37.0</td>\n",
              "    </tr>\n",
              "    <tr>\n",
              "      <th>TroponinIFirst</th>\n",
              "      <td>NaN</td>\n",
              "      <td>NaN</td>\n",
              "      <td>NaN</td>\n",
              "      <td>NaN</td>\n",
              "      <td>NaN</td>\n",
              "    </tr>\n",
              "    <tr>\n",
              "      <th>TroponinILast</th>\n",
              "      <td>NaN</td>\n",
              "      <td>NaN</td>\n",
              "      <td>NaN</td>\n",
              "      <td>NaN</td>\n",
              "      <td>NaN</td>\n",
              "    </tr>\n",
              "    <tr>\n",
              "      <th>TroponinTFirst</th>\n",
              "      <td>NaN</td>\n",
              "      <td>NaN</td>\n",
              "      <td>NaN</td>\n",
              "      <td>NaN</td>\n",
              "      <td>NaN</td>\n",
              "    </tr>\n",
              "    <tr>\n",
              "      <th>TroponinTLast</th>\n",
              "      <td>NaN</td>\n",
              "      <td>NaN</td>\n",
              "      <td>NaN</td>\n",
              "      <td>NaN</td>\n",
              "      <td>NaN</td>\n",
              "    </tr>\n",
              "    <tr>\n",
              "      <th>UrineMin</th>\n",
              "      <td>0.0</td>\n",
              "      <td>0.00</td>\n",
              "      <td>18.00</td>\n",
              "      <td>100.0</td>\n",
              "      <td>16.0</td>\n",
              "    </tr>\n",
              "    <tr>\n",
              "      <th>UrineMax</th>\n",
              "      <td>900.0</td>\n",
              "      <td>770.00</td>\n",
              "      <td>425.00</td>\n",
              "      <td>700.0</td>\n",
              "      <td>220.0</td>\n",
              "    </tr>\n",
              "    <tr>\n",
              "      <th>UrineFirst</th>\n",
              "      <td>900.0</td>\n",
              "      <td>770.00</td>\n",
              "      <td>100.00</td>\n",
              "      <td>600.0</td>\n",
              "      <td>140.0</td>\n",
              "    </tr>\n",
              "    <tr>\n",
              "      <th>UrineLast</th>\n",
              "      <td>280.0</td>\n",
              "      <td>220.00</td>\n",
              "      <td>35.00</td>\n",
              "      <td>550.0</td>\n",
              "      <td>80.0</td>\n",
              "    </tr>\n",
              "    <tr>\n",
              "      <th>UrineMedian</th>\n",
              "      <td>100.0</td>\n",
              "      <td>90.00</td>\n",
              "      <td>100.00</td>\n",
              "      <td>625.0</td>\n",
              "      <td>50.0</td>\n",
              "    </tr>\n",
              "    <tr>\n",
              "      <th>WBCMin</th>\n",
              "      <td>9.4</td>\n",
              "      <td>7.40</td>\n",
              "      <td>3.70</td>\n",
              "      <td>7.9</td>\n",
              "      <td>3.8</td>\n",
              "    </tr>\n",
              "    <tr>\n",
              "      <th>WBCMax</th>\n",
              "      <td>11.2</td>\n",
              "      <td>13.30</td>\n",
              "      <td>6.20</td>\n",
              "      <td>11.5</td>\n",
              "      <td>4.8</td>\n",
              "    </tr>\n",
              "    <tr>\n",
              "      <th>WBCFirst</th>\n",
              "      <td>11.2</td>\n",
              "      <td>7.40</td>\n",
              "      <td>4.20</td>\n",
              "      <td>11.5</td>\n",
              "      <td>3.8</td>\n",
              "    </tr>\n",
              "    <tr>\n",
              "      <th>WBCLast</th>\n",
              "      <td>9.4</td>\n",
              "      <td>13.30</td>\n",
              "      <td>6.20</td>\n",
              "      <td>7.9</td>\n",
              "      <td>4.8</td>\n",
              "    </tr>\n",
              "    <tr>\n",
              "      <th>WBCMedian</th>\n",
              "      <td>10.3</td>\n",
              "      <td>13.10</td>\n",
              "      <td>4.20</td>\n",
              "      <td>8.8</td>\n",
              "      <td>4.3</td>\n",
              "    </tr>\n",
              "    <tr>\n",
              "      <th>WeightFirst</th>\n",
              "      <td>NaN</td>\n",
              "      <td>80.60</td>\n",
              "      <td>56.70</td>\n",
              "      <td>84.6</td>\n",
              "      <td>NaN</td>\n",
              "    </tr>\n",
              "    <tr>\n",
              "      <th>WeightLast</th>\n",
              "      <td>NaN</td>\n",
              "      <td>81.60</td>\n",
              "      <td>56.70</td>\n",
              "      <td>84.6</td>\n",
              "      <td>NaN</td>\n",
              "    </tr>\n",
              "    <tr>\n",
              "      <th>WeightInitMedian</th>\n",
              "      <td>NaN</td>\n",
              "      <td>76.00</td>\n",
              "      <td>56.70</td>\n",
              "      <td>84.6</td>\n",
              "      <td>NaN</td>\n",
              "    </tr>\n",
              "    <tr>\n",
              "      <th>pHMin</th>\n",
              "      <td>NaN</td>\n",
              "      <td>7.34</td>\n",
              "      <td>7.47</td>\n",
              "      <td>NaN</td>\n",
              "      <td>NaN</td>\n",
              "    </tr>\n",
              "    <tr>\n",
              "      <th>pHMax</th>\n",
              "      <td>NaN</td>\n",
              "      <td>7.45</td>\n",
              "      <td>7.51</td>\n",
              "      <td>NaN</td>\n",
              "      <td>NaN</td>\n",
              "    </tr>\n",
              "    <tr>\n",
              "      <th>pHFirst</th>\n",
              "      <td>NaN</td>\n",
              "      <td>7.45</td>\n",
              "      <td>7.51</td>\n",
              "      <td>NaN</td>\n",
              "      <td>NaN</td>\n",
              "    </tr>\n",
              "    <tr>\n",
              "      <th>pHLast</th>\n",
              "      <td>NaN</td>\n",
              "      <td>7.37</td>\n",
              "      <td>7.47</td>\n",
              "      <td>NaN</td>\n",
              "      <td>NaN</td>\n",
              "    </tr>\n",
              "    <tr>\n",
              "      <th>pHMedian</th>\n",
              "      <td>NaN</td>\n",
              "      <td>7.40</td>\n",
              "      <td>7.50</td>\n",
              "      <td>NaN</td>\n",
              "      <td>NaN</td>\n",
              "    </tr>\n",
              "    <tr>\n",
              "      <th>MechVentFirst</th>\n",
              "      <td>0.0</td>\n",
              "      <td>1.00</td>\n",
              "      <td>0.00</td>\n",
              "      <td>0.0</td>\n",
              "      <td>0.0</td>\n",
              "    </tr>\n",
              "    <tr>\n",
              "      <th>MechVentLast</th>\n",
              "      <td>0.0</td>\n",
              "      <td>0.00</td>\n",
              "      <td>1.00</td>\n",
              "      <td>0.0</td>\n",
              "      <td>0.0</td>\n",
              "    </tr>\n",
              "    <tr>\n",
              "      <th>MechVentMax</th>\n",
              "      <td>0.0</td>\n",
              "      <td>1.00</td>\n",
              "      <td>1.00</td>\n",
              "      <td>0.0</td>\n",
              "      <td>0.0</td>\n",
              "    </tr>\n",
              "    <tr>\n",
              "      <th>MechVentStartTime</th>\n",
              "      <td>0.0</td>\n",
              "      <td>71.00</td>\n",
              "      <td>617.00</td>\n",
              "      <td>0.0</td>\n",
              "      <td>0.0</td>\n",
              "    </tr>\n",
              "    <tr>\n",
              "      <th>MechVentDuration</th>\n",
              "      <td>0.0</td>\n",
              "      <td>360.00</td>\n",
              "      <td>2160.00</td>\n",
              "      <td>0.0</td>\n",
              "      <td>0.0</td>\n",
              "    </tr>\n",
              "    <tr>\n",
              "      <th>TroponinMeasured</th>\n",
              "      <td>0.0</td>\n",
              "      <td>0.00</td>\n",
              "      <td>0.00</td>\n",
              "      <td>0.0</td>\n",
              "      <td>0.0</td>\n",
              "    </tr>\n",
              "  </tbody>\n",
              "</table>\n",
              "<p>183 rows × 5 columns</p>\n",
              "</div>"
            ],
            "text/plain": [
              "                       0       1        2      3      4\n",
              "hospitalmortality    0.0    0.00     0.00    0.0    0.0\n",
              "ALPMin               NaN     NaN   105.00  105.0    NaN\n",
              "ALPMax               NaN     NaN   127.00  105.0    NaN\n",
              "ALPFirst             NaN     NaN   127.00  105.0    NaN\n",
              "ALPLast              NaN     NaN   105.00  105.0    NaN\n",
              "ALPMedian            NaN     NaN   116.00  105.0    NaN\n",
              "ALTMin               NaN     NaN    75.00   12.0    NaN\n",
              "ALTMax               NaN     NaN    91.00   12.0    NaN\n",
              "ALTFirst             NaN     NaN    91.00   12.0    NaN\n",
              "ALTLast              NaN     NaN    75.00   12.0    NaN\n",
              "ALTMedian            NaN     NaN    83.00   12.0    NaN\n",
              "ASTMin               NaN     NaN   164.00   15.0    NaN\n",
              "ASTMax               NaN     NaN   235.00   15.0    NaN\n",
              "ASTFirst             NaN     NaN   235.00   15.0    NaN\n",
              "ASTLast              NaN     NaN   164.00   15.0    NaN\n",
              "ASTMedian            NaN     NaN   199.50   15.0    NaN\n",
              "Age                 54.0   76.00    44.00   68.0   88.0\n",
              "AlbuminMin           NaN     NaN     2.30    4.4    3.3\n",
              "AlbuminMax           NaN     NaN     2.70    4.4    3.3\n",
              "AlbuminFirst         NaN     NaN     2.70    4.4    3.3\n",
              "AlbuminLast          NaN     NaN     2.30    4.4    3.3\n",
              "AlbuminMedian        NaN     NaN     2.50    4.4    3.3\n",
              "BUNMin               8.0   16.00     3.00   10.0   25.0\n",
              "BUNMax              13.0   21.00     8.00   23.0   45.0\n",
              "BUNFirst            13.0   16.00     8.00   23.0   45.0\n",
              "BUNLast              8.0   21.00     3.00   10.0   25.0\n",
              "BUNMedian           10.5   18.00     3.00   20.0   35.0\n",
              "BilirubinMin         NaN     NaN     2.80    0.2    NaN\n",
              "BilirubinMax         NaN     NaN     3.00    0.2    NaN\n",
              "BilirubinFirst       NaN     NaN     3.00    0.2    NaN\n",
              "...                  ...     ...      ...    ...    ...\n",
              "TempLast            37.8   37.10    37.20   37.0   36.7\n",
              "TempMedian          37.7   37.45    37.85   36.4   37.0\n",
              "TroponinIFirst       NaN     NaN      NaN    NaN    NaN\n",
              "TroponinILast        NaN     NaN      NaN    NaN    NaN\n",
              "TroponinTFirst       NaN     NaN      NaN    NaN    NaN\n",
              "TroponinTLast        NaN     NaN      NaN    NaN    NaN\n",
              "UrineMin             0.0    0.00    18.00  100.0   16.0\n",
              "UrineMax           900.0  770.00   425.00  700.0  220.0\n",
              "UrineFirst         900.0  770.00   100.00  600.0  140.0\n",
              "UrineLast          280.0  220.00    35.00  550.0   80.0\n",
              "UrineMedian        100.0   90.00   100.00  625.0   50.0\n",
              "WBCMin               9.4    7.40     3.70    7.9    3.8\n",
              "WBCMax              11.2   13.30     6.20   11.5    4.8\n",
              "WBCFirst            11.2    7.40     4.20   11.5    3.8\n",
              "WBCLast              9.4   13.30     6.20    7.9    4.8\n",
              "WBCMedian           10.3   13.10     4.20    8.8    4.3\n",
              "WeightFirst          NaN   80.60    56.70   84.6    NaN\n",
              "WeightLast           NaN   81.60    56.70   84.6    NaN\n",
              "WeightInitMedian     NaN   76.00    56.70   84.6    NaN\n",
              "pHMin                NaN    7.34     7.47    NaN    NaN\n",
              "pHMax                NaN    7.45     7.51    NaN    NaN\n",
              "pHFirst              NaN    7.45     7.51    NaN    NaN\n",
              "pHLast               NaN    7.37     7.47    NaN    NaN\n",
              "pHMedian             NaN    7.40     7.50    NaN    NaN\n",
              "MechVentFirst        0.0    1.00     0.00    0.0    0.0\n",
              "MechVentLast         0.0    0.00     1.00    0.0    0.0\n",
              "MechVentMax          0.0    1.00     1.00    0.0    0.0\n",
              "MechVentStartTime    0.0   71.00   617.00    0.0    0.0\n",
              "MechVentDuration     0.0  360.00  2160.00    0.0    0.0\n",
              "TroponinMeasured     0.0    0.00     0.00    0.0    0.0\n",
              "\n",
              "[183 rows x 5 columns]"
            ]
          },
          "metadata": {
            "tags": []
          },
          "execution_count": 12
        }
      ]
    },
    {
      "metadata": {
        "id": "Sswvrj6CGZax",
        "colab_type": "text"
      },
      "cell_type": "markdown",
      "source": [
        "### Missing data imputation\n",
        "\n",
        "In the above transposed view, we can see a few of the missing values for lactate, height, bmi, etc. There are many methods which can be used for missing data imputation. Of those tools, many of them are available in the imputer module of scikit-learn.\n",
        "\n",
        "Here is a [brief tutorial of imputing missing values](http://scikit-learn.org/stable/modules/preprocessing.html#imputation).\n",
        "\n",
        "You can [read more about the imputer module here](http://scikit-learn.org/stable/modules/generated/sklearn.preprocessing.Imputer.html).\n",
        "\n",
        "We choose to take a reasonably simple approach, and replace all missing values (`'NaN'`) with the mean value of observed measurements (`strategy='mean'`)."
      ]
    },
    {
      "metadata": {
        "id": "Uq9Lo9PVGZ1T",
        "colab_type": "code",
        "colab": {}
      },
      "cell_type": "code",
      "source": [
        "# define the method of imputation\n",
        "imp = Imputer(missing_values='NaN', strategy='mean', axis=0)\n",
        "\n",
        "# learn the parameters of that imputation using our data X\n",
        "# i.e., in our case, calculate the means of each column which we will use to impute data\n",
        "imp = imp.fit(X)\n",
        "\n",
        "# apply that imputation\n",
        "X_transform = imp.transform(X)"
      ],
      "execution_count": 0,
      "outputs": []
    },
    {
      "metadata": {
        "id": "tEh-oQJcGe2X",
        "colab_type": "text"
      },
      "cell_type": "markdown",
      "source": [
        "We can now see that our missing data has been replaced:"
      ]
    },
    {
      "metadata": {
        "id": "VVgBO_WLGbt8",
        "colab_type": "code",
        "colab": {
          "base_uri": "https://localhost:8080/",
          "height": 70
        },
        "outputId": "eef44ca7-f3f9-4f06-f0a8-74b18db06694"
      },
      "cell_type": "code",
      "source": [
        "print('Before:', end='')\n",
        "print(X[0:10, 0])\n",
        "\n",
        "print('After:', end='')\n",
        "print(X_transform[0:10, 3])"
      ],
      "execution_count": 14,
      "outputs": [
        {
          "output_type": "stream",
          "text": [
            "Before:[ nan  nan 105. 105.  nan 101.  nan  47.  nan  nan]\n",
            "After:[104.30236686 104.30236686 105.         105.         104.30236686\n",
            " 101.         104.30236686  47.         104.30236686 104.30236686]\n"
          ],
          "name": "stdout"
        }
      ]
    },
    {
      "metadata": {
        "id": "X0LKlXbCGhz6",
        "colab_type": "text"
      },
      "cell_type": "markdown",
      "source": [
        "For linear models (e.g. logistic regression), this will be roughly equivalent to imputing the average risk for this feature for patients missing that data.\n",
        "\n",
        "We can now train a model on the data!"
      ]
    },
    {
      "metadata": {
        "id": "ZB_vwBdFGg8W",
        "colab_type": "code",
        "colab": {
          "base_uri": "https://localhost:8080/",
          "height": 87
        },
        "outputId": "32a94a09-421e-4675-e6dc-12b75cfeb4ae"
      },
      "cell_type": "code",
      "source": [
        "clf = LogisticRegression(fit_intercept=True)\n",
        "clf.fit(X_transform, y)"
      ],
      "execution_count": 15,
      "outputs": [
        {
          "output_type": "execute_result",
          "data": {
            "text/plain": [
              "LogisticRegression(C=1.0, class_weight=None, dual=False, fit_intercept=True,\n",
              "          intercept_scaling=1, max_iter=100, multi_class='ovr', n_jobs=1,\n",
              "          penalty='l2', random_state=None, solver='liblinear', tol=0.0001,\n",
              "          verbose=0, warm_start=False)"
            ]
          },
          "metadata": {
            "tags": []
          },
          "execution_count": 15
        }
      ]
    },
    {
      "metadata": {
        "id": "u_-jhZknGnUL",
        "colab_type": "text"
      },
      "cell_type": "markdown",
      "source": [
        "We then evaluate the model using the AUROC again. \n",
        "An AUROC = 0.5 represents a random classifier making random predictions, while an AUROC = 1.0 represents a perfect classifier which always outputs the correct prediction."
      ]
    },
    {
      "metadata": {
        "id": "LKMu6Uu3GlTZ",
        "colab_type": "code",
        "colab": {
          "base_uri": "https://localhost:8080/",
          "height": 35
        },
        "outputId": "5e3edd36-11c2-4b18-943d-46f955145f4f"
      },
      "cell_type": "code",
      "source": [
        "yhat = clf.predict_proba(X_transform)[:,1]\n",
        "auc = metrics.roc_auc_score(y, yhat)\n",
        "\n",
        "print('{:0.3f} - AUROC of model (training set).'.format( auc ))"
      ],
      "execution_count": 16,
      "outputs": [
        {
          "output_type": "stream",
          "text": [
            "0.877 - AUROC of model (training set).\n"
          ],
          "name": "stdout"
        }
      ]
    },
    {
      "metadata": {
        "id": "tRgkyC2tGsJE",
        "colab_type": "text"
      },
      "cell_type": "markdown",
      "source": [
        "### Find the important features\n",
        "\n",
        "Let's dig into the model to determine what is driving the predictions. \n",
        "In healthcare applications, model interpretability is very important as it can be used to validate the model's construct validity."
      ]
    },
    {
      "metadata": {
        "id": "EA2zqiAyGphk",
        "colab_type": "code",
        "colab": {
          "base_uri": "https://localhost:8080/",
          "height": 245
        },
        "outputId": "f3fb8af9-381e-4b1f-b863-0da19731aa9f"
      },
      "cell_type": "code",
      "source": [
        "# plot the coefficients\n",
        "coef = np.row_stack([df.columns[1:], clf.coef_]).T\n",
        "\n",
        "idxSort = np.argsort(coef[:,1])\n",
        "\n",
        "print('Top 5 predictors negatively correlated with mortality:')\n",
        "for n in range(5):\n",
        "    print('{:1.2f} - {}'.format(coef[idxSort[n],1], coef[idxSort[n],0]))\n",
        "    \n",
        "print()\n",
        "print('Top 5 predictors positively correlated with mortality:')\n",
        "for n in range(5):\n",
        "    print('{:1.2f} - {}'.format(coef[idxSort[-n-1],1], coef[idxSort[-n-1],0]))"
      ],
      "execution_count": 17,
      "outputs": [
        {
          "output_type": "stream",
          "text": [
            "Top 5 predictors negatively correlated with mortality:\n",
            "-0.35 - TempMedian\n",
            "-0.34 - CSRU\n",
            "-0.29 - BilirubinFirst\n",
            "-0.24 - GCSLast\n",
            "-0.21 - MechVentFirst\n",
            "\n",
            "Top 5 predictors positively correlated with mortality:\n",
            "0.42 - TroponinMeasured\n",
            "0.26 - FiO2Last\n",
            "0.25 - FiO2Median\n",
            "0.22 - SICU\n",
            "0.21 - MICU\n"
          ],
          "name": "stdout"
        }
      ]
    },
    {
      "metadata": {
        "id": "EmZiT6wSGwiq",
        "colab_type": "text"
      },
      "cell_type": "markdown",
      "source": [
        "One issue with these coefficients is that they are unadjusted---that is they are based on the original scale of the data. \n",
        "The coefficient for FiO2, shown in percentage (0-100), will likely be ~100 times higher than the coefficient for mechanical ventilation (0/1). \n",
        "While this is fine for modelling purposes, it also means we can't directly compare the magnitudes of the coefficients to determine the magnitude of the association between the feature and risk.\n",
        "\n",
        "Of course there is a solution! \n",
        "We can scale the data using `StandardScaler` function in scikit-learn."
      ]
    },
    {
      "metadata": {
        "id": "H0Am8ZdKGuSJ",
        "colab_type": "code",
        "colab": {}
      },
      "cell_type": "code",
      "source": [
        "# problem: the above coefficients all operate on different scales\n",
        "# solution: scale the data before we use it in the model\n",
        "imp = Imputer(missing_values='NaN', strategy=\"mean\", axis=0)\n",
        "imp = imp.fit(X)\n",
        "X_transform = imp.transform(X)\n",
        "\n",
        "scale = StandardScaler()\n",
        "scale = scale.fit(X_transform)\n",
        "X_transform = scale.transform(X_transform)"
      ],
      "execution_count": 0,
      "outputs": []
    },
    {
      "metadata": {
        "id": "82Hx6umqGzUx",
        "colab_type": "code",
        "colab": {
          "base_uri": "https://localhost:8080/",
          "height": 262
        },
        "outputId": "56328828-c4d6-4f2e-f79b-55225a82815b"
      },
      "cell_type": "code",
      "source": [
        "# fit the model on scaled data\n",
        "clf = LogisticRegression(fit_intercept=True)\n",
        "clf = clf.fit(X_transform, y)\n",
        "\n",
        "# evaluate the model\n",
        "yhat = clf.predict_proba(X_transform)[:,1]\n",
        "auc = metrics.roc_auc_score(y, yhat)\n",
        "\n",
        "print('{:0.3f} - AUROC of model (training set).'.format(auc))\n",
        "\n",
        "# print the coefficients\n",
        "coef = np.row_stack([df.columns[1:], clf.coef_]).T\n",
        "idxSort = np.argsort(coef[:,1])\n",
        "\n",
        "print('Top 5 predictors negatively correlated with mortality:')\n",
        "for n in range(5):\n",
        "    print('{:1.2f} - {}'.format(coef[idxSort[n],1], coef[idxSort[n],0]))\n",
        "    \n",
        "print()\n",
        "print('Top 5 predictors positively correlated with mortality:')\n",
        "for n in range(5):\n",
        "    print('{:1.2f} - {}'.format(coef[idxSort[-n-1],1], coef[idxSort[-n-1],0]))"
      ],
      "execution_count": 19,
      "outputs": [
        {
          "output_type": "stream",
          "text": [
            "0.881 - AUROC of model (training set).\n",
            "Top 5 predictors negatively correlated with mortality:\n",
            "-0.89 - ALPMax\n",
            "-0.83 - GCSLast\n",
            "-0.79 - pHMin\n",
            "-0.71 - BilirubinFirst\n",
            "-0.58 - ASTFirst\n",
            "\n",
            "Top 5 predictors positively correlated with mortality:\n",
            "0.73 - BilirubinMedian\n",
            "0.69 - ASTMin\n",
            "0.67 - MechVentDuration\n",
            "0.64 - BUNLast\n",
            "0.64 - pHMedian\n"
          ],
          "name": "stdout"
        }
      ]
    },
    {
      "metadata": {
        "id": "_z2pFI-jG879",
        "colab_type": "text"
      },
      "cell_type": "markdown",
      "source": [
        "Let's look at the odds ratios for these coefficients graphically. This will give us a more intuitive comparison between the features. For those which have negative correlation with bad outcome (i.e. higher values indicate better prognosis), we reverse the coefficient on the graph so it is more comparable."
      ]
    },
    {
      "metadata": {
        "id": "26jIeJxuG3sd",
        "colab_type": "code",
        "colab": {
          "base_uri": "https://localhost:8080/",
          "height": 375
        },
        "outputId": "b8192467-316c-44c0-9e02-1cdc6e1bd421"
      },
      "cell_type": "code",
      "source": [
        "# plot the top 10 lowest / highest\n",
        "coef = np.row_stack([df.columns[1:], clf.coef_]).T\n",
        "idxSort = np.argsort(coef[:,1])\n",
        "\n",
        "idxTop = idxSort[0:10]\n",
        "idxBot = idxSort[-1:-11:-1]\n",
        "\n",
        "colTop = [0.8906,0.1016,0.1094]\n",
        "colBot = [0.2148,0.4922,0.7188]\n",
        "\n",
        "f = plt.figure(figsize=[10,6])\n",
        "ax1 = f.add_subplot(111)\n",
        "ax1.plot( np.exp(-coef[idxTop,1].astype(float)), range(10), 's', markersize=10, color = colTop)\n",
        "\n",
        "# move negatively correlated ticklabels over to the right\n",
        "ax1.yaxis.tick_right()\n",
        "ax1.yaxis.set_label_position(\"right\")\n",
        "ax1.set_ylim([-1,10])\n",
        "\n",
        "ax1.yaxis.set_ticks(range(10))\n",
        "ax1.yaxis.set_ticklabels(coef[idxTop,0], color=colTop, fontsize=16)\n",
        "plt.ylabel(\"Negatively correlated\", color=colTop, fontsize=16)\n",
        "\n",
        "ax2 = f.add_subplot(111, sharex=ax1, frameon=False)\n",
        "ax2.plot( np.exp(coef[idxBot,1].astype(float)), range(10), 'o', markersize=10, color=colBot )\n",
        "\n",
        "\n",
        "ax2.yaxis.set_ticks(range(10))\n",
        "ax2.yaxis.set_ticklabels(coef[idxBot,0], color=colBot, fontsize=16)\n",
        "ax2.set_ylim([-1,10])\n",
        "plt.ylabel(\"Positively correlated\", color=colBot, fontsize=16)\n",
        "\n",
        "# set axes\n",
        "plt.show()"
      ],
      "execution_count": 21,
      "outputs": [
        {
          "output_type": "display_data",
          "data": {
            "image/png": "[encoded data removed]",
            "text/plain": [
              "<matplotlib.figure.Figure at 0x7f8f37456940>"
            ]
          },
          "metadata": {
            "tags": []
          }
        }
      ]
    },
    {
      "metadata": {
        "id": "qEiKUipZU5o5",
        "colab_type": "text"
      },
      "cell_type": "markdown",
      "source": [
        "### Pipeline\n",
        "\n",
        "We can use scikit-learn's pipeline feature to combine together all of these steps (imputation, scaling, and final model building). \n",
        "This is technically the same thing, but syntactically it's a lot cleaner!\n",
        "\n"
      ]
    },
    {
      "metadata": {
        "id": "9yNgiC9uU3j4",
        "colab_type": "code",
        "colab": {
          "base_uri": "https://localhost:8080/",
          "height": 35
        },
        "outputId": "ddcc017b-958b-4809-f77c-178616e3cf30"
      },
      "cell_type": "code",
      "source": [
        "# can use pipelines as a nicer way of doing the above\n",
        "estimator = Pipeline([\n",
        "        (\"imputer\", Imputer(missing_values='NaN',\n",
        "                                  strategy=\"mean\",\n",
        "                                  axis=0)),\n",
        "        (\"scaler\", StandardScaler()),\n",
        "        (\"logreg\", LogisticRegression(fit_intercept=True))\n",
        "    ])\n",
        "\n",
        "mdl_pipeline = estimator.fit(X, y)\n",
        "\n",
        "yhat = mdl_pipeline.predict_proba(X)[:,1]\n",
        "\n",
        "auc = metrics.roc_auc_score(y, yhat)\n",
        "print('{:0.3f} - AUROC of model (training set).'.format( auc ))"
      ],
      "execution_count": 22,
      "outputs": [
        {
          "output_type": "stream",
          "text": [
            "0.881 - AUROC of model (training set).\n"
          ],
          "name": "stdout"
        }
      ]
    },
    {
      "metadata": {
        "id": "36LIjZCcKEvO",
        "colab_type": "text"
      },
      "cell_type": "markdown",
      "source": [
        "Note that we achieve the same performance as before---again, this is simply a short form of what we have done before.\n",
        "\n",
        "You'll note that the print statement keeps stating \"training set\", and may be wondering what this means and why it matters. \n",
        "The training set corresponds to the data used to develop the model.\n",
        "Importantly, this means that the model has seen the data that we are using to estimate how well the model is doing. \n",
        "For the regression model above, the consequences of this may not be obvious. \n",
        "Let's switch to a more flexible model and see what happens."
      ]
    },
    {
      "metadata": {
        "id": "4qxpTrw5VhOG",
        "colab_type": "code",
        "colab": {
          "base_uri": "https://localhost:8080/",
          "height": 35
        },
        "outputId": "d36a357d-7c9d-4ddc-ae43-182ec1e060f8"
      },
      "cell_type": "code",
      "source": [
        "# can use pipelines as a nicer way of doing the above\n",
        "estimator = Pipeline([\n",
        "        (\"imputer\", Imputer(missing_values='NaN',\n",
        "                                  strategy=\"mean\",\n",
        "                                  axis=0)),\n",
        "        (\"scaler\", StandardScaler()),\n",
        "        (\"rf\", RandomForestClassifier())\n",
        "    ])\n",
        "\n",
        "mdl_pipeline = estimator.fit(X, y)\n",
        "\n",
        "yhat = mdl_pipeline.predict_proba(X)[:,1]\n",
        "\n",
        "auc = metrics.roc_auc_score(y, yhat)\n",
        "print('{:0.3f} - AUROC of model (training set).'.format( auc ))"
      ],
      "execution_count": 23,
      "outputs": [
        {
          "output_type": "stream",
          "text": [
            "1.000 - AUROC of model (training set).\n"
          ],
          "name": "stdout"
        }
      ]
    },
    {
      "metadata": {
        "id": "GLvdjOk6KP2P",
        "colab_type": "text"
      },
      "cell_type": "markdown",
      "source": [
        "Amazing! We have an AUROC = 1.0, which is perfect, therefore we have a perfect model. Time to go home!\n",
        "\n",
        "Obviously, it's not that simple, though we wish it were :) We have used a model called a Random Forest. Omitting a few details, a random forest is a collection of decision trees. Each decision tree tries to perfectly classify a small subset of the overall data. When combined together, all of these decision trees perfectly classify the entire dataset. However, that does not mean that they work perfectly!\n",
        "\n",
        "How can we check this? Well, let's hide some data from the classifier, and see how well it does on this hidden data. This is a very common concept in machine learning: we have a training set, and we hide a test set to see how we're really doing."
      ]
    },
    {
      "metadata": {
        "id": "AOY5rDb6KS_O",
        "colab_type": "text"
      },
      "cell_type": "markdown",
      "source": [
        "### Prevent from overfitting"
      ]
    },
    {
      "metadata": {
        "id": "t46MYBDvKJpu",
        "colab_type": "code",
        "colab": {}
      },
      "cell_type": "code",
      "source": [
        "# we use 80% data for training and 20% for testing\n",
        "np.random.seed(42)\n",
        "idxTrain = np.random.rand(X.shape[0])\n",
        "idxTest = idxTrain > 0.8\n",
        "idxTrain = ~idxTest\n",
        "\n",
        "X_train = X[idxTrain, :]\n",
        "y_train = y[idxTrain]\n",
        "X_test = X[idxTest, :]\n",
        "y_test = y[idxTest]"
      ],
      "execution_count": 0,
      "outputs": []
    },
    {
      "metadata": {
        "id": "mNCV-tzGKXeq",
        "colab_type": "code",
        "colab": {
          "base_uri": "https://localhost:8080/",
          "height": 52
        },
        "outputId": "ef06cb17-5502-4957-8faa-e87db3da72b4"
      },
      "cell_type": "code",
      "source": [
        "# can use pipelines as a nicer way of doing the above\n",
        "estimator = Pipeline([\n",
        "        (\"imputer\", Imputer(missing_values='NaN',\n",
        "                                  strategy=\"mean\",\n",
        "                                  axis=0)),\n",
        "        (\"scaler\", StandardScaler()),\n",
        "        (\"rf\", RandomForestClassifier())\n",
        "    ])\n",
        "\n",
        "mdl_pipeline = estimator.fit(X_train, y_train)\n",
        "\n",
        "yhat = mdl_pipeline.predict_proba(X_train)[:,1]\n",
        "auc = metrics.roc_auc_score(y_train, yhat)\n",
        "print('{:0.3f} - AUROC of model (training set).'.format( auc ))\n",
        "\n",
        "yhat = mdl_pipeline.predict_proba(X_test)[:,1]\n",
        "auc = metrics.roc_auc_score(y_test, yhat)\n",
        "print('{:0.3f} - AUROC of model (test set).'.format( auc ))"
      ],
      "execution_count": 25,
      "outputs": [
        {
          "output_type": "stream",
          "text": [
            "1.000 - AUROC of model (training set).\n",
            "0.777 - AUROC of model (test set).\n"
          ],
          "name": "stdout"
        }
      ]
    },
    {
      "metadata": {
        "id": "ZO-KpqjfKdwS",
        "colab_type": "text"
      },
      "cell_type": "markdown",
      "source": [
        "### Interpretation\n",
        "\n",
        "Now that we have prevented our model from memorizing the data, we can get a much better estimate of how well we are actually doing. Note that with the more flexible model, we are not necessarily doing better! However, there are many \"hyperparameters\" for the Random Forest (different knobs we can tweak in order for things to work better). With some optimization of these hyperparameters, we may be able to do better. Note that this improvement in performance is at the cost of some interpretability of the model. We no longer have a simple set of coefficients to interpret: we now have hundreds of decision trees simultaneously being used to determine patient outcome.\n",
        "\n",
        "All is not lost! We can still garner some meaning from the models. One common method of interpretting the model is figuring out how important each feature is in the model. The method for doing this is quite intuitive: we can mess up a single column (randomize it), and see how much worse our model does. If that column is very important, then we would expect our model to be much worse. If the column is not that important, then our model performance would be about the same. Let's try it!"
      ]
    },
    {
      "metadata": {
        "id": "09YubqxRKZzF",
        "colab_type": "code",
        "colab": {
          "base_uri": "https://localhost:8080/",
          "height": 367
        },
        "outputId": "5757d94e-eead-4422-8ed0-675ea23b73bf"
      },
      "cell_type": "code",
      "source": [
        "D = X_test.shape[1]\n",
        "# we should repeat the data shuffling to get a decent estimate of feature importance\n",
        "B = 10\n",
        "feat_importance = np.zeros([B, D], dtype=float)\n",
        "\n",
        "\n",
        "# let's get the baseline performance of our model\n",
        "yhat = mdl_pipeline.predict_proba(X_test)[:,1]\n",
        "loss_base = metrics.log_loss(y_test, yhat)\n",
        "\n",
        "\n",
        "# for each feature\n",
        "for d in range(D):\n",
        "    for b in range(B):\n",
        "        # generate a random shuffle\n",
        "        idxShuffle = np.random.randint(low=0, high=D, size=X_test.shape[0])\n",
        "        # note this random shuffle allows the same row to be selected more than once\n",
        "        # this is intentional, and called \"bootstrapping\", you can read up on it online\n",
        "\n",
        "        X_fi = X_test\n",
        "\n",
        "        # shuffle the data\n",
        "        X_fi[:, d] = X_fi[idxShuffle, d]\n",
        "\n",
        "        # apply our model\n",
        "        yhat = mdl_pipeline.predict_proba(X_fi)[:,1]\n",
        "\n",
        "        # calculate performance on the data with a shuffled column\n",
        "        loss = metrics.log_loss(y_test, yhat)\n",
        "\n",
        "        # store this in the feature importance matrix\n",
        "        # note we subtract this off the baseline AUROC\n",
        "        feat_importance[b,d] = loss_base - loss\n",
        "        \n",
        "    if np.mod(d,10)==0:\n",
        "        print('Finished {:2.1f}% of features.'.format(d*100.0/D))\n",
        "        \n",
        "print('Done!')"
      ],
      "execution_count": 26,
      "outputs": [
        {
          "output_type": "stream",
          "text": [
            "Finished 0.0% of features.\n",
            "Finished 5.5% of features.\n",
            "Finished 11.0% of features.\n",
            "Finished 16.5% of features.\n",
            "Finished 22.0% of features.\n",
            "Finished 27.5% of features.\n",
            "Finished 33.0% of features.\n",
            "Finished 38.5% of features.\n",
            "Finished 44.0% of features.\n",
            "Finished 49.5% of features.\n",
            "Finished 54.9% of features.\n",
            "Finished 60.4% of features.\n",
            "Finished 65.9% of features.\n",
            "Finished 71.4% of features.\n",
            "Finished 76.9% of features.\n",
            "Finished 82.4% of features.\n",
            "Finished 87.9% of features.\n",
            "Finished 93.4% of features.\n",
            "Finished 98.9% of features.\n",
            "Done!\n"
          ],
          "name": "stdout"
        }
      ]
    },
    {
      "metadata": {
        "id": "P290Fi7sKlRZ",
        "colab_type": "text"
      },
      "cell_type": "markdown",
      "source": [
        "Now that we've calculated the importance, let's plot the most important 10 features. We can define the most important features as those which caused the largest degradation in performance."
      ]
    },
    {
      "metadata": {
        "id": "MMOyXY8lKivX",
        "colab_type": "code",
        "colab": {
          "base_uri": "https://localhost:8080/",
          "height": 483
        },
        "outputId": "cdc5153b-fa4a-4016-ae2a-0655ceb48871"
      },
      "cell_type": "code",
      "source": [
        "# take mean degradation in performance\n",
        "feat_imp_mu = np.mean(feat_importance, axis=0)\n",
        "feat_imp_iqr = np.percentile(feat_importance, 75, axis=0) - np.percentile(feat_importance, 25, axis=0)\n",
        "\n",
        "# sort to get the features which had the most impact\n",
        "idxSort = np.argsort(feat_imp_mu)\n",
        "\n",
        "plt.figure(figsize=[12,8])\n",
        "# note we negate the feature importance - now higher values indicate more important\n",
        "plt.barh(range(10), -feat_imp_mu[idxSort[0:10]], color='r',\n",
        "         yerr = feat_imp_iqr[idxSort[0:10]],\n",
        "        tick_label = X_header[idxSort[0:10]],\n",
        "        align='center')\n",
        "plt.show()"
      ],
      "execution_count": 27,
      "outputs": [
        {
          "output_type": "display_data",
          "data": {
            "image/png": "[encoded data removed]",
            "text/plain": [
              "<matplotlib.figure.Figure at 0x7f8f374e7cc0>"
            ]
          },
          "metadata": {
            "tags": []
          }
        }
      ]
    },
    {
      "metadata": {
        "id": "5Q4XSnSsKppn",
        "colab_type": "text"
      },
      "cell_type": "markdown",
      "source": [
        "Note that we have changed our metric from the AUROC to the logistic loss. All of the top 10 features make sense: lab values are useful in determining patient outcome.\n",
        "\n",
        "There are other methods for determining feature importance - in fact, some are included in the random forest model object. The only trick is that they are buried within the pipeline that we used earlier."
      ]
    },
    {
      "metadata": {
        "id": "g5-IwMnfKnP3",
        "colab_type": "code",
        "colab": {
          "base_uri": "https://localhost:8080/",
          "height": 483
        },
        "outputId": "ad3030cd-b2ee-4b3f-c651-aa684131022e"
      },
      "cell_type": "code",
      "source": [
        "rf_mdl = mdl_pipeline.named_steps['rf']\n",
        "\n",
        "# get feature importances\n",
        "feat_imp_rf = rf_mdl.feature_importances_\n",
        "\n",
        "# same as before - let's plot it!\n",
        "idxSort = np.argsort(feat_imp_rf)\n",
        "\n",
        "plt.figure(figsize=[12,8])\n",
        "plt.barh(range(10), feat_imp_rf[idxSort[0:10]],\n",
        "        tick_label = X_header[idxSort[0:10]],\n",
        "        align='center')\n",
        "plt.show()"
      ],
      "execution_count": 28,
      "outputs": [
        {
          "output_type": "display_data",
          "data": {
            "image/png": "[encoded data removed]",
            "text/plain": [
              "<matplotlib.figure.Figure at 0x7f8f3742cdd8>"
            ]
          },
          "metadata": {
            "tags": []
          }
        }
      ]
    },
    {
      "metadata": {
        "id": "0IjSR3xnKxVG",
        "colab_type": "text"
      },
      "cell_type": "markdown",
      "source": [
        "Here we get very different feature importances. Why is this? It helps to understand how these feature importances are derived.\n",
        "\n",
        "The first feature importance was done based on overall performance: potassium ended up being very useful across all patients in predicting mortality.\n",
        "\n",
        "Alternatively, the second method is based on the Gini importance. Remember that a random forest is made up of many trees. This second method says: for each split that uses the feature, how much \"purer\" are the two subsequent nodes. Below, the percentage is the frequency of the outcome, where we start with 50% (equal number of both groups in that node).\n",
        "```\n",
        "50%\n",
        "|\n",
        "| split on feature here\n",
        "|\\\n",
        "| \\\n",
        "|  \\\n",
        "|   \\\n",
        "|    \\\n",
        "25%  75%\n",
        "```\n",
        "Above, after we split on the feature, our nodes are \"purer\". That is, the left node has more negative outcomes (0s), and the right node as more positive outcomes (1s).\n",
        "\n",
        "From this, we can conclude that service_traum (Trauma service) is very useful for separating those who survive from those who die. This makes sense: trauma is very bad! Patients who are admitted for trauma are very severely ill, and it is an effective indicator of illness. However, not all patients are trauma patients. Across all patients, potassium is a more important measure in indicating illness. --- need to change"
      ]
    },
    {
      "metadata": {
        "id": "a8HX6G5RK2sK",
        "colab_type": "text"
      },
      "cell_type": "markdown",
      "source": [
        "### Cross-validation\n",
        "Finally, let's review a very effective technique for estimating how well our classifier is doing: cross-validation. Recall that we split the dataset into two sets: training and test, specifically 80% training and 20% test. As we tested using a smaller dataset (only 20% of the total records), we likely will end up with a noisier estimate of performance than if we used the entire dataset. Of course we can't use the entire dataset because then our model results aren't believable. Cross-validation is a clever way to use the entire dataset and use held-out data for proper evaluation. Each observation is assigned to a group. Let's say we have K groups. We then can build a model using data in the kth group as the test set, and all other data as the training set. Let's take a look at some code.\n",
        "\n",
        "\n"
      ]
    },
    {
      "metadata": {
        "id": "nzD3fC4mK4On",
        "colab_type": "code",
        "colab": {
          "base_uri": "https://localhost:8080/",
          "height": 52
        },
        "outputId": "747f6aa8-040a-4be6-d21d-8a050a18dc0c"
      },
      "cell_type": "code",
      "source": [
        "# create the K fold indices\n",
        "K = 5\n",
        "\n",
        "idxK = np.random.permutation(X.shape[0])\n",
        "idxK = np.mod(idxK,K)\n",
        "\n",
        "print('First 10 observations:',end=' ')\n",
        "print(idxK[0:10])\n",
        "print('idxK shape:',end=' ')\n",
        "print(idxK.shape)"
      ],
      "execution_count": 29,
      "outputs": [
        {
          "output_type": "stream",
          "text": [
            "First 10 observations: [3 3 2 3 3 1 4 0 3 0]\n",
            "idxK shape: (4000,)\n"
          ],
          "name": "stdout"
        }
      ]
    },
    {
      "metadata": {
        "id": "917iTyh-K_sZ",
        "colab_type": "text"
      },
      "cell_type": "markdown",
      "source": [
        "Above you can see we have generated an integer, up to K-1 (but including 0), for all observations in the training set. We will now iterate through the unique integers to \"hold out\" a subset of the data for each model training."
      ]
    },
    {
      "metadata": {
        "id": "LMwAKrfcK9kC",
        "colab_type": "code",
        "colab": {
          "base_uri": "https://localhost:8080/",
          "height": 105
        },
        "outputId": "057cbe1a-6f3c-46a2-fca2-2f396fc3ff31"
      },
      "cell_type": "code",
      "source": [
        "xval_auc = list()\n",
        "\n",
        "for k in range(K):\n",
        "    idxTest = idxK == k\n",
        "    idxTrain = idxK != k\n",
        "\n",
        "    X_train = X[idxTrain, :]\n",
        "    y_train = y[idxTrain]\n",
        "    X_test = X[idxTest, :]\n",
        "    y_test = y[idxTest]\n",
        "    \n",
        "    # train the model using all but the kth fold\n",
        "    curr_mdl = estimator.fit(X_train, y_train)\n",
        "    \n",
        "    # evaluate using the kth fold\n",
        "    yhat = curr_mdl.predict_proba(X_test)[:,1]\n",
        "    curr_score = metrics.roc_auc_score(y_test, yhat)\n",
        "    xval_auc.append( curr_score )\n",
        "    \n",
        "\n",
        "    print('{} - Finished fold {} of {}. AUROC {:0.3f}.'.format(dt.datetime.now(),\n",
        "                                                               k+1, K, curr_score))"
      ],
      "execution_count": 30,
      "outputs": [
        {
          "output_type": "stream",
          "text": [
            "2018-06-05 05:08:09.689259 - Finished fold 1 of 5. AUROC 0.776.\n",
            "2018-06-05 05:08:09.926022 - Finished fold 2 of 5. AUROC 0.784.\n",
            "2018-06-05 05:08:10.157082 - Finished fold 3 of 5. AUROC 0.770.\n",
            "2018-06-05 05:08:10.404126 - Finished fold 4 of 5. AUROC 0.761.\n",
            "2018-06-05 05:08:10.642049 - Finished fold 5 of 5. AUROC 0.782.\n"
          ],
          "name": "stdout"
        }
      ]
    },
    {
      "metadata": {
        "id": "LV9JVHoBLEFB",
        "colab_type": "text"
      },
      "cell_type": "markdown",
      "source": [
        "### Hyperparameter optimization\n",
        "Let's look at our estimator."
      ]
    },
    {
      "metadata": {
        "id": "vxW_XzjDLBb4",
        "colab_type": "code",
        "colab": {
          "base_uri": "https://localhost:8080/",
          "height": 140
        },
        "outputId": "69c83674-50fa-43bd-9faf-a452bebafb4a"
      },
      "cell_type": "code",
      "source": [
        "estimator = Pipeline([\n",
        "        (\"imputer\", Imputer(missing_values='NaN',\n",
        "                                  strategy=\"mean\",\n",
        "                                  axis=0)),\n",
        "        (\"scaler\", StandardScaler()),\n",
        "        (\"rf\", RandomForestClassifier())\n",
        "    ])\n",
        "\n",
        "print(estimator.named_steps['rf'])"
      ],
      "execution_count": 31,
      "outputs": [
        {
          "output_type": "stream",
          "text": [
            "RandomForestClassifier(bootstrap=True, class_weight=None, criterion='gini',\n",
            "            max_depth=None, max_features='auto', max_leaf_nodes=None,\n",
            "            min_impurity_decrease=0.0, min_impurity_split=None,\n",
            "            min_samples_leaf=1, min_samples_split=2,\n",
            "            min_weight_fraction_leaf=0.0, n_estimators=10, n_jobs=1,\n",
            "            oob_score=False, random_state=None, verbose=0,\n",
            "            warm_start=False)\n"
          ],
          "name": "stdout"
        }
      ]
    },
    {
      "metadata": {
        "id": "JR5wabnDLJ--",
        "colab_type": "text"
      },
      "cell_type": "markdown",
      "source": [
        "Careful observation will note a few parameters which we could play around with:\n",
        "\n",
        "* criterion - what method to evaluate how well a node is splitting the data\n",
        "* max_depth - a limit on how deep the tree is\n",
        "* max_features - how many to look at for an inidividual tree\n",
        "* max_leaf_nodes - maximum number of leaf or end nodes\n",
        "* min_impurity_split - minimum impurity to allow for a split (the criterion is impurity)\n",
        "* min_samples_leaf - minimum samples in a leaf node\n",
        "* min_samples_split - minimum samples required to split a node\n",
        "* min_weight_fraction_leaf - similar to min_samples_leaf, except sometimes we are using weighted data, and so this takes that into account\n",
        "* n_estimators - the number of trees to learn\n",
        "\n",
        "You'll note that all of these parameters have values - but who is to say these values are optimal? They have been set to sensible defaults - all of which perform well on a variety of problems - but there's no reason that they would perform best on our problem! What we need to do is *hyperparameter optimization*: the above are \"hyperparameters\" (i.e., they are not the parameters the model uses to make decisions, but they are used to configure the model itself). We can optimize these in a few ways, but the simplest to understand is grid search. Grid search is essentially a brute force method of trying a bunch of combinations and picking the one that does best.\n",
        "\n",
        "Happily, scikit-learn provides some tools to do grid search using cross-validation, which is exactly what we want to do."
      ]
    },
    {
      "metadata": {
        "id": "D2Fm9Ex8LKby",
        "colab_type": "code",
        "colab": {
          "base_uri": "https://localhost:8080/",
          "height": 475
        },
        "outputId": "e7222e1f-362e-44f2-cb9e-36d69614300d"
      },
      "cell_type": "code",
      "source": [
        "params = {'rf__max_depth': [10],\n",
        "         'rf__n_estimators': [10,50]}\n",
        "\n",
        "estimator = Pipeline([\n",
        "        (\"imputer\", Imputer(missing_values='NaN',\n",
        "                                  strategy=\"mean\",\n",
        "                                  axis=0)),\n",
        "        (\"scaler\", StandardScaler()),\n",
        "        (\"rf\", RandomForestClassifier())\n",
        "    ])\n",
        "\n",
        "curr_mdl = model_selection.GridSearchCV(estimator, params,\n",
        "                   scoring='roc_auc',\n",
        "                   verbose=2, refit=True)\n",
        "curr_mdl.fit(X, y)\n",
        "\n",
        "#curr_mdl.cv_results_['mean_test_score']"
      ],
      "execution_count": 32,
      "outputs": [
        {
          "output_type": "stream",
          "text": [
            "Fitting 3 folds for each of 2 candidates, totalling 6 fits\n",
            "[CV] rf__max_depth=10, rf__n_estimators=10 ...........................\n",
            "[CV] ............ rf__max_depth=10, rf__n_estimators=10, total=   0.1s\n",
            "[CV] rf__max_depth=10, rf__n_estimators=10 ...........................\n"
          ],
          "name": "stdout"
        },
        {
          "output_type": "stream",
          "text": [
            "[Parallel(n_jobs=1)]: Done   1 out of   1 | elapsed:    0.2s remaining:    0.0s\n"
          ],
          "name": "stderr"
        },
        {
          "output_type": "stream",
          "text": [
            "[CV] ............ rf__max_depth=10, rf__n_estimators=10, total=   0.1s\n",
            "[CV] rf__max_depth=10, rf__n_estimators=10 ...........................\n",
            "[CV] ............ rf__max_depth=10, rf__n_estimators=10, total=   0.1s\n",
            "[CV] rf__max_depth=10, rf__n_estimators=50 ...........................\n",
            "[CV] ............ rf__max_depth=10, rf__n_estimators=50, total=   0.6s\n",
            "[CV] rf__max_depth=10, rf__n_estimators=50 ...........................\n",
            "[CV] ............ rf__max_depth=10, rf__n_estimators=50, total=   0.6s\n",
            "[CV] rf__max_depth=10, rf__n_estimators=50 ...........................\n",
            "[CV] ............ rf__max_depth=10, rf__n_estimators=50, total=   0.6s\n"
          ],
          "name": "stdout"
        },
        {
          "output_type": "stream",
          "text": [
            "[Parallel(n_jobs=1)]: Done   6 out of   6 | elapsed:    2.3s finished\n"
          ],
          "name": "stderr"
        },
        {
          "output_type": "execute_result",
          "data": {
            "text/plain": [
              "GridSearchCV(cv=None, error_score='raise',\n",
              "       estimator=Pipeline(memory=None,\n",
              "     steps=[('imputer', Imputer(axis=0, copy=True, missing_values='NaN', strategy='mean', verbose=0)), ('scaler', StandardScaler(copy=True, with_mean=True, with_std=True)), ('rf', RandomForestClassifier(bootstrap=True, class_weight=None, criterion='gini',\n",
              "            max_depth=None, max_features='auto', ...n_jobs=1,\n",
              "            oob_score=False, random_state=None, verbose=0,\n",
              "            warm_start=False))]),\n",
              "       fit_params=None, iid=True, n_jobs=1,\n",
              "       param_grid={'rf__max_depth': [10], 'rf__n_estimators': [10, 50]},\n",
              "       pre_dispatch='2*n_jobs', refit=True, return_train_score='warn',\n",
              "       scoring='roc_auc', verbose=2)"
            ]
          },
          "metadata": {
            "tags": []
          },
          "execution_count": 32
        }
      ]
    },
    {
      "metadata": {
        "id": "MOSV_jOKLNDw",
        "colab_type": "code",
        "colab": {
          "base_uri": "https://localhost:8080/",
          "height": 527
        },
        "outputId": "8ce08983-e4ed-41e6-a813-d8b7a78cc1e9"
      },
      "cell_type": "code",
      "source": [
        "for x in curr_mdl.cv_results_:\n",
        "    print(x,end=': ')\n",
        "    print(curr_mdl.cv_results_[x])"
      ],
      "execution_count": 33,
      "outputs": [
        {
          "output_type": "stream",
          "text": [
            "mean_fit_time: [0.13832275 0.56821219]\n",
            "std_fit_time: [0.00238568 0.00405725]\n",
            "mean_score_time: [0.00850328 0.01606464]\n",
            "std_score_time: [1.34339696e-05 3.31599248e-04]\n",
            "param_rf__max_depth: [10 10]\n",
            "param_rf__n_estimators: [10 50]\n",
            "params: [{'rf__max_depth': 10, 'rf__n_estimators': 10}, {'rf__max_depth': 10, 'rf__n_estimators': 50}]\n",
            "split0_test_score: [0.80967704 0.83168913]\n",
            "split1_test_score: [0.77325759 0.82610966]\n",
            "split2_test_score: [0.80500587 0.8269249 ]\n",
            "mean_test_score: [0.79597565 0.82824189]\n",
            "std_test_score: [0.01618285 0.00246108]\n",
            "rank_test_score: [2 1]\n",
            "split0_train_score: [0.97978629 0.99596622]\n",
            "split1_train_score: [0.98850215 0.99508019]\n",
            "split2_train_score: [0.98258944 0.99499918]\n",
            "mean_train_score: [0.98362596 0.99534853]\n",
            "std_train_score: [0.00363293 0.00043803]\n"
          ],
          "name": "stdout"
        },
        {
          "output_type": "stream",
          "text": [
            "/usr/local/lib/python3.6/dist-packages/sklearn/utils/deprecation.py:122: FutureWarning: You are accessing a training score ('split0_train_score'), which will not be available by default any more in 0.21. If you need training scores, please set return_train_score=True\n",
            "  warnings.warn(*warn_args, **warn_kwargs)\n",
            "/usr/local/lib/python3.6/dist-packages/sklearn/utils/deprecation.py:122: FutureWarning: You are accessing a training score ('split1_train_score'), which will not be available by default any more in 0.21. If you need training scores, please set return_train_score=True\n",
            "  warnings.warn(*warn_args, **warn_kwargs)\n",
            "/usr/local/lib/python3.6/dist-packages/sklearn/utils/deprecation.py:122: FutureWarning: You are accessing a training score ('split2_train_score'), which will not be available by default any more in 0.21. If you need training scores, please set return_train_score=True\n",
            "  warnings.warn(*warn_args, **warn_kwargs)\n",
            "/usr/local/lib/python3.6/dist-packages/sklearn/utils/deprecation.py:122: FutureWarning: You are accessing a training score ('mean_train_score'), which will not be available by default any more in 0.21. If you need training scores, please set return_train_score=True\n",
            "  warnings.warn(*warn_args, **warn_kwargs)\n",
            "/usr/local/lib/python3.6/dist-packages/sklearn/utils/deprecation.py:122: FutureWarning: You are accessing a training score ('std_train_score'), which will not be available by default any more in 0.21. If you need training scores, please set return_train_score=True\n",
            "  warnings.warn(*warn_args, **warn_kwargs)\n"
          ],
          "name": "stderr"
        }
      ]
    },
    {
      "metadata": {
        "id": "p5nlGiznLRA-",
        "colab_type": "text"
      },
      "cell_type": "markdown",
      "source": [
        "### More models!\n",
        "We are now armed with the ability to train and effectively evaluate our models. Now the fun begins. Let's evaluate a few different models to see which one does best.\n",
        "\n"
      ]
    },
    {
      "metadata": {
        "id": "mT4GRjojLOqj",
        "colab_type": "code",
        "colab": {
          "base_uri": "https://localhost:8080/",
          "height": 1227
        },
        "outputId": "aed5e9a0-467b-484b-cc20-122acdcd8f0d"
      },
      "cell_type": "code",
      "source": [
        "# Rough timing info:\n",
        "#     rf - 3 seconds per fold\n",
        "# logreg - 4 seconds per fold\n",
        "#  lasso - 8 seconds per fold\n",
        "models = {'l1': LogisticRegression(penalty='l1', multi_class='ovr', n_jobs=-1),\n",
        "          'l2': LogisticRegression(penalty='l2', multi_class='ovr', n_jobs=-1), \n",
        "          #'nb': MultinomialNB(), \n",
        "          'svc': CalibratedClassifierCV(base_estimator=LinearSVC(penalty='l2', loss='squared_hinge', C=1.0, multi_class='ovr', random_state=0, max_iter=1000), cv=5), \n",
        "          'rbf': SVC(kernel='rbf', probability=True, decision_function_shape='ovr'), \n",
        "          'rf': RandomForestClassifier(n_estimators=100, n_jobs=-1), \n",
        "          'adab': AdaBoostClassifier(n_estimators=100), \n",
        "          'gb': GradientBoostingClassifier(n_estimators=100, learning_rate=1.0, max_depth=1, random_state=0),\n",
        "          'mlp':MLPClassifier(solver='adam', alpha=1e-5, hidden_layer_sizes=(128, 64, 32), random_state=42)\n",
        "         }       \n",
        "                \n",
        "# create k-fold indices\n",
        "K = 5 # number of folds\n",
        "idxK = np.random.permutation(X.shape[0])\n",
        "idxK = np.mod(idxK,K)\n",
        "\n",
        "mdl_val = dict()\n",
        "results_val = dict()\n",
        "pred_val = dict()\n",
        "tar_val = dict()\n",
        "\n",
        "for mdl in models:\n",
        "    print('=============== {} ==============='.format(mdl))\n",
        "    mdl_val[mdl] = list()\n",
        "    results_val[mdl] = list() # initialize list for scores\n",
        "    pred_val[mdl] = list()\n",
        "    tar_val[mdl] = list()\n",
        "\n",
        "    if mdl == 'xgb':\n",
        "        # no pre-processing of data necessary for xgb\n",
        "        estimator = Pipeline([(mdl, models[mdl])])\n",
        "\n",
        "    else:\n",
        "        estimator = Pipeline([(\"imputer\", Imputer(missing_values='NaN',\n",
        "                                          strategy=\"mean\",\n",
        "                                          axis=0)),\n",
        "                      (\"scaler\", StandardScaler()),\n",
        "                      (mdl, models[mdl])]) \n",
        "\n",
        "    for k in range(K):\n",
        "        # train the model using all but the kth fold\n",
        "        curr_mdl = estimator.fit(X[idxK != k, :],y[idxK != k])\n",
        "\n",
        "        # get prediction on this dataset\n",
        "        if mdl == 'lasso':\n",
        "            curr_prob = curr_mdl.predict(X[idxK == k, :])\n",
        "        else:\n",
        "            curr_prob = curr_mdl.predict_proba(X[idxK == k, :])\n",
        "            curr_prob = curr_prob[:,1]\n",
        "        \n",
        "        pred_val[mdl].append(curr_prob)\n",
        "        tar_val[mdl].append(y[idxK == k])\n",
        "        \n",
        "        # calculate score (AUROC)\n",
        "        curr_score = metrics.roc_auc_score(y[idxK == k], curr_prob)\n",
        "\n",
        "        # add score to list of scores\n",
        "        results_val[mdl].append(curr_score)\n",
        "\n",
        "        # save the current model\n",
        "        mdl_val[mdl].append(curr_mdl)\n",
        "        \n",
        "        print('{} - Finished fold {} of {}. AUROC {:0.3f}.'.format(dt.datetime.now(), k+1, K, curr_score))\n",
        "    "
      ],
      "execution_count": 35,
      "outputs": [
        {
          "output_type": "stream",
          "text": [
            "=============== l1 ===============\n"
          ],
          "name": "stdout"
        },
        {
          "output_type": "stream",
          "text": [
            "/usr/local/lib/python3.6/dist-packages/sklearn/linear_model/logistic.py:1228: UserWarning: 'n_jobs' > 1 does not have any effect when 'solver' is set to 'liblinear'. Got 'n_jobs' = -1.\n",
            "  \" = {}.\".format(self.n_jobs))\n"
          ],
          "name": "stderr"
        },
        {
          "output_type": "stream",
          "text": [
            "2018-06-05 05:09:22.971356 - Finished fold 1 of 5. AUROC 0.795.\n"
          ],
          "name": "stdout"
        },
        {
          "output_type": "stream",
          "text": [
            "/usr/local/lib/python3.6/dist-packages/sklearn/linear_model/logistic.py:1228: UserWarning: 'n_jobs' > 1 does not have any effect when 'solver' is set to 'liblinear'. Got 'n_jobs' = -1.\n",
            "  \" = {}.\".format(self.n_jobs))\n"
          ],
          "name": "stderr"
        },
        {
          "output_type": "stream",
          "text": [
            "2018-06-05 05:09:24.503016 - Finished fold 2 of 5. AUROC 0.811.\n"
          ],
          "name": "stdout"
        },
        {
          "output_type": "stream",
          "text": [
            "/usr/local/lib/python3.6/dist-packages/sklearn/linear_model/logistic.py:1228: UserWarning: 'n_jobs' > 1 does not have any effect when 'solver' is set to 'liblinear'. Got 'n_jobs' = -1.\n",
            "  \" = {}.\".format(self.n_jobs))\n"
          ],
          "name": "stderr"
        },
        {
          "output_type": "stream",
          "text": [
            "2018-06-05 05:09:25.945165 - Finished fold 3 of 5. AUROC 0.845.\n"
          ],
          "name": "stdout"
        },
        {
          "output_type": "stream",
          "text": [
            "/usr/local/lib/python3.6/dist-packages/sklearn/linear_model/logistic.py:1228: UserWarning: 'n_jobs' > 1 does not have any effect when 'solver' is set to 'liblinear'. Got 'n_jobs' = -1.\n",
            "  \" = {}.\".format(self.n_jobs))\n"
          ],
          "name": "stderr"
        },
        {
          "output_type": "stream",
          "text": [
            "2018-06-05 05:09:27.459936 - Finished fold 4 of 5. AUROC 0.819.\n"
          ],
          "name": "stdout"
        },
        {
          "output_type": "stream",
          "text": [
            "/usr/local/lib/python3.6/dist-packages/sklearn/linear_model/logistic.py:1228: UserWarning: 'n_jobs' > 1 does not have any effect when 'solver' is set to 'liblinear'. Got 'n_jobs' = -1.\n",
            "  \" = {}.\".format(self.n_jobs))\n"
          ],
          "name": "stderr"
        },
        {
          "output_type": "stream",
          "text": [
            "2018-06-05 05:09:29.016247 - Finished fold 5 of 5. AUROC 0.835.\n",
            "=============== l2 ===============\n"
          ],
          "name": "stdout"
        },
        {
          "output_type": "stream",
          "text": [
            "/usr/local/lib/python3.6/dist-packages/sklearn/linear_model/logistic.py:1228: UserWarning: 'n_jobs' > 1 does not have any effect when 'solver' is set to 'liblinear'. Got 'n_jobs' = -1.\n",
            "  \" = {}.\".format(self.n_jobs))\n"
          ],
          "name": "stderr"
        },
        {
          "output_type": "stream",
          "text": [
            "2018-06-05 05:09:29.585326 - Finished fold 1 of 5. AUROC 0.792.\n"
          ],
          "name": "stdout"
        },
        {
          "output_type": "stream",
          "text": [
            "/usr/local/lib/python3.6/dist-packages/sklearn/linear_model/logistic.py:1228: UserWarning: 'n_jobs' > 1 does not have any effect when 'solver' is set to 'liblinear'. Got 'n_jobs' = -1.\n",
            "  \" = {}.\".format(self.n_jobs))\n"
          ],
          "name": "stderr"
        },
        {
          "output_type": "stream",
          "text": [
            "2018-06-05 05:09:30.106404 - Finished fold 2 of 5. AUROC 0.809.\n"
          ],
          "name": "stdout"
        },
        {
          "output_type": "stream",
          "text": [
            "/usr/local/lib/python3.6/dist-packages/sklearn/linear_model/logistic.py:1228: UserWarning: 'n_jobs' > 1 does not have any effect when 'solver' is set to 'liblinear'. Got 'n_jobs' = -1.\n",
            "  \" = {}.\".format(self.n_jobs))\n"
          ],
          "name": "stderr"
        },
        {
          "output_type": "stream",
          "text": [
            "2018-06-05 05:09:30.538094 - Finished fold 3 of 5. AUROC 0.838.\n"
          ],
          "name": "stdout"
        },
        {
          "output_type": "stream",
          "text": [
            "/usr/local/lib/python3.6/dist-packages/sklearn/linear_model/logistic.py:1228: UserWarning: 'n_jobs' > 1 does not have any effect when 'solver' is set to 'liblinear'. Got 'n_jobs' = -1.\n",
            "  \" = {}.\".format(self.n_jobs))\n"
          ],
          "name": "stderr"
        },
        {
          "output_type": "stream",
          "text": [
            "2018-06-05 05:09:31.147895 - Finished fold 4 of 5. AUROC 0.818.\n"
          ],
          "name": "stdout"
        },
        {
          "output_type": "stream",
          "text": [
            "/usr/local/lib/python3.6/dist-packages/sklearn/linear_model/logistic.py:1228: UserWarning: 'n_jobs' > 1 does not have any effect when 'solver' is set to 'liblinear'. Got 'n_jobs' = -1.\n",
            "  \" = {}.\".format(self.n_jobs))\n"
          ],
          "name": "stderr"
        },
        {
          "output_type": "stream",
          "text": [
            "2018-06-05 05:09:31.638634 - Finished fold 5 of 5. AUROC 0.833.\n",
            "=============== svc ===============\n",
            "2018-06-05 05:09:36.819296 - Finished fold 1 of 5. AUROC 0.791.\n",
            "2018-06-05 05:09:42.002277 - Finished fold 2 of 5. AUROC 0.804.\n",
            "2018-06-05 05:09:47.173312 - Finished fold 3 of 5. AUROC 0.832.\n",
            "2018-06-05 05:09:52.372157 - Finished fold 4 of 5. AUROC 0.809.\n",
            "2018-06-05 05:09:57.602463 - Finished fold 5 of 5. AUROC 0.829.\n",
            "=============== rbf ===============\n",
            "2018-06-05 05:10:06.303000 - Finished fold 1 of 5. AUROC 0.821.\n",
            "2018-06-05 05:10:14.723530 - Finished fold 2 of 5. AUROC 0.806.\n",
            "2018-06-05 05:10:23.331486 - Finished fold 3 of 5. AUROC 0.832.\n",
            "2018-06-05 05:10:32.002031 - Finished fold 4 of 5. AUROC 0.811.\n",
            "2018-06-05 05:10:40.953635 - Finished fold 5 of 5. AUROC 0.840.\n",
            "=============== rf ===============\n",
            "2018-06-05 05:10:42.666286 - Finished fold 1 of 5. AUROC 0.827.\n",
            "2018-06-05 05:10:44.381337 - Finished fold 2 of 5. AUROC 0.822.\n",
            "2018-06-05 05:10:46.098470 - Finished fold 3 of 5. AUROC 0.837.\n",
            "2018-06-05 05:10:47.813131 - Finished fold 4 of 5. AUROC 0.842.\n",
            "2018-06-05 05:10:49.529893 - Finished fold 5 of 5. AUROC 0.852.\n",
            "=============== adab ===============\n",
            "2018-06-05 05:10:52.121258 - Finished fold 1 of 5. AUROC 0.807.\n",
            "2018-06-05 05:10:54.697243 - Finished fold 2 of 5. AUROC 0.788.\n",
            "2018-06-05 05:10:57.298559 - Finished fold 3 of 5. AUROC 0.810.\n",
            "2018-06-05 05:10:59.907267 - Finished fold 4 of 5. AUROC 0.818.\n",
            "2018-06-05 05:11:02.571589 - Finished fold 5 of 5. AUROC 0.809.\n",
            "=============== gb ===============\n",
            "2018-06-05 05:11:03.362616 - Finished fold 1 of 5. AUROC 0.788.\n",
            "2018-06-05 05:11:04.086244 - Finished fold 2 of 5. AUROC 0.756.\n",
            "2018-06-05 05:11:04.817122 - Finished fold 3 of 5. AUROC 0.831.\n",
            "2018-06-05 05:11:05.574866 - Finished fold 4 of 5. AUROC 0.770.\n",
            "2018-06-05 05:11:06.340538 - Finished fold 5 of 5. AUROC 0.831.\n",
            "=============== mlp ===============\n",
            "2018-06-05 05:11:08.419088 - Finished fold 1 of 5. AUROC 0.775.\n",
            "2018-06-05 05:11:10.454292 - Finished fold 2 of 5. AUROC 0.750.\n",
            "2018-06-05 05:11:12.490505 - Finished fold 3 of 5. AUROC 0.762.\n",
            "2018-06-05 05:11:14.592023 - Finished fold 4 of 5. AUROC 0.800.\n",
            "2018-06-05 05:11:16.697886 - Finished fold 5 of 5. AUROC 0.788.\n"
          ],
          "name": "stdout"
        }
      ]
    },
    {
      "metadata": {
        "id": "c6tWfOcRLX80",
        "colab_type": "text"
      },
      "cell_type": "markdown",
      "source": [
        "## More data!\n",
        "\n",
        "Try to extract variables and outcomes from MIMIC dataset and build your own models."
      ]
    }
  ]
}