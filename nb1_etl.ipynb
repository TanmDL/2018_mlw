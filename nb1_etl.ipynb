{
  "nbformat": 4,
  "nbformat_minor": 0,
  "metadata": {
    "colab": {
      "name": "nb1_etl.ipynb",
      "version": "0.3.2",
      "provenance": []
    },
    "kernelspec": {
      "name": "python3",
      "display_name": "Python 3"
    }
  },
  "cells": [
    {
      "cell_type": "markdown",
      "metadata": {
        "id": "view-in-github",
        "colab_type": "text"
      },
      "source": [
        "[View in Colaboratory](https://colab.research.google.com/github/ckbjimmy/2018_mlw/blob/master/nb1_etl.ipynb)"
      ]
    },
    {
      "metadata": {
        "id": "acE7JrXS2ahZ",
        "colab_type": "text"
      },
      "cell_type": "markdown",
      "source": [
        "# Workshop Part I\n",
        "\n",
        "## Data Extract, Load, Transform (ELT)\n",
        "\n"
      ]
    },
    {
      "metadata": {
        "id": "2oc7_qvU2U1e",
        "colab_type": "code",
        "colab": {}
      },
      "cell_type": "code",
      "source": [
        ""
      ],
      "execution_count": 0,
      "outputs": []
    },
    {
      "metadata": {
        "id": "EQPT1u6z2ZYQ",
        "colab_type": "code",
        "colab": {}
      },
      "cell_type": "code",
      "source": [
        ""
      ],
      "execution_count": 0,
      "outputs": []
    }
  ]
}